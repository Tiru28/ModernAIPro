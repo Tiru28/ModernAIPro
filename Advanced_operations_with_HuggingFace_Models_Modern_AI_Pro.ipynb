{
  "cells": [
    {
      "cell_type": "markdown",
      "metadata": {
        "id": "view-in-github",
        "colab_type": "text"
      },
      "source": [
        "<a href=\"https://colab.research.google.com/github/Tiru28/ModernAIPro/blob/main/Advanced_operations_with_HuggingFace_Models_Modern_AI_Pro.ipynb\" target=\"_parent\"><img src=\"https://colab.research.google.com/assets/colab-badge.svg\" alt=\"Open In Colab\"/></a>"
      ]
    },
    {
      "cell_type": "markdown",
      "metadata": {
        "id": "qa1rqZ7mIVPM"
      },
      "source": [
        "# Modern AI Pro: Advanced Operations with Open Source models\n",
        "You know you don't always need GPT4. You can use a collection of open source models that can be cheaper, flexible and provide better privacy based on the business need."
      ]
    },
    {
      "cell_type": "markdown",
      "metadata": {
        "id": "bwLRNIb0Nis9"
      },
      "source": [
        "## 1.Let's start with text classification with a smaller model"
      ]
    },
    {
      "cell_type": "code",
      "execution_count": null,
      "metadata": {
        "id": "9xDGy3td6w_Q"
      },
      "outputs": [],
      "source": [
        "from transformers import pipeline"
      ]
    },
    {
      "cell_type": "code",
      "execution_count": null,
      "metadata": {
        "id": "N7dTEUR6Nf0W",
        "colab": {
          "base_uri": "https://localhost:8080/",
          "height": 226,
          "referenced_widgets": [
            "ef97fdaaaeec4ea9b1cd30aca49f5674",
            "b6418058546b43658c355da8e1ac9d13",
            "e420d967dec64f08aeee655acf1075c4",
            "6089b3b708c447d792f82d02fef73c76",
            "74b71610801d407db6848eb1a13c72c2",
            "3be33bec5e10441f92056c0ba259ba20",
            "492723a7c6e24245a5c387cc3274a876",
            "1f3bc46c9c6f4b9d898a783d55040027",
            "efaab1b9c29a46ea9bf51bb264d04bfb",
            "cc622e8fd02542e6b2dd700b0c9c26fb",
            "b4e5836a8b4541b292740484a6675961",
            "d773556e06784046a882d99397462c5a",
            "39284626f5cd4cdd97573195a36f7b4e",
            "821adafff1704288a88a76350dcb215c",
            "3f665fcacaf24c46ab064c1d9a2961ea",
            "f354409c7a9c455399049d40715a30b9",
            "87e0a5494df94a8abf8ab545115306b0",
            "a9ff22e388d94adf878d036bf1fbf63c",
            "90ed986a87554f4382e1cb73bec925b1",
            "97e9d1349944422192fbf3a887743879",
            "7472af361e1f4f7a9debf526684ad4d4",
            "d18d20451aad4f58b501278a5984a0e6",
            "360c645f25e04c55806d1789a706f2ab",
            "5d89c9c77c3a4bbf99d1930141e442a7",
            "4f2bf7be98f340c1a116896e47b64446",
            "b0fc3a6b45644710b107258e2819a772",
            "4eb69da95e4f49bca42422b793ca59ad",
            "1a0b85a00256412382393afbc74cea4d",
            "c8f69b5cb2174e0ba11e21977c37fb75",
            "ec7b2e4fa6af48cdbb2890b024bfb05f",
            "0c97cf4176ae4f0f980913681fc439aa",
            "10e25cd04e104b18b194a202e79a34ac",
            "44e070e14a66440ca19009bbe382415c",
            "2f7b2777962d4b93b0b58a788539b6ac",
            "9221833b8f7347fa9ba879391ae38641",
            "1d59de1d395648958de5968e23546c76",
            "df15eb7311c244f2a2ad2d95b0e5a1d2",
            "caea898ca0364e94a1da48c291ba155a",
            "fb39df0f4d1644e6ba7819a383f5ecf8",
            "598712160b964a219ab76b4aa7a2ffb9",
            "99afc35eb60e4b8b93868f6d508d5ad5",
            "c4370ad53df84fde9e2f0a122ee2f202",
            "15a320d2a1e848fa9c9b5b3a8040fc19",
            "81f9e8ca990a437cae6135c8f2a97dc7",
            "5c48b8d543264702b849b2154e07db72",
            "d3623f940067448e8147f3ec7cdcb35f",
            "7ec6dfb9fc724850af451f37e99a345e",
            "e81ae92d291c46998bb633bbcc5fee13",
            "40fb76d23b794870bdcd11146f71f1a1",
            "e2e60848c57245f38178f8299df4bbdc",
            "77a28fb029cd41d9982471944aca8d5e",
            "d08fb760d9914af69e048c16e90a5859",
            "78ecb11323864764820a86da97861fd3",
            "dafc141d1a9e4f78b03affd718d1f34a",
            "14d26aab6d3f4967a0c7106a3b7a0034",
            "c4b31489e4a54e27b0ed8656b8697f86",
            "05c214deb6b3426e8bbaa856f5d726b1",
            "c31f22e2a80e4d13b3d8f2cd81183704",
            "eb217b6199aa4fc882781c7b10c0e30b",
            "fd8013daee4747509d82b1a2d1aedd06",
            "f2cde6052c424610bf47a192998b2dfe",
            "46ba84918ca64fa1a0514ff991320217",
            "d042ea87cb8b4c16a99ad15f93832691",
            "6e16c18e654441b8a688892fe7fa869b",
            "ed0b6096b48b4b1783bed3716fe8ab10",
            "80a7ca9202ba4f78af1b627686db0b91"
          ]
        },
        "outputId": "424a0167-a394-4e94-a5bc-c93a6903226b"
      },
      "outputs": [
        {
          "output_type": "display_data",
          "data": {
            "text/plain": [
              "config.json: 0.00B [00:00, ?B/s]"
            ],
            "application/vnd.jupyter.widget-view+json": {
              "version_major": 2,
              "version_minor": 0,
              "model_id": "ef97fdaaaeec4ea9b1cd30aca49f5674"
            }
          },
          "metadata": {}
        },
        {
          "output_type": "display_data",
          "data": {
            "text/plain": [
              "model.safetensors:   0%|          | 0.00/1.63G [00:00<?, ?B/s]"
            ],
            "application/vnd.jupyter.widget-view+json": {
              "version_major": 2,
              "version_minor": 0,
              "model_id": "d773556e06784046a882d99397462c5a"
            }
          },
          "metadata": {}
        },
        {
          "output_type": "display_data",
          "data": {
            "text/plain": [
              "tokenizer_config.json:   0%|          | 0.00/26.0 [00:00<?, ?B/s]"
            ],
            "application/vnd.jupyter.widget-view+json": {
              "version_major": 2,
              "version_minor": 0,
              "model_id": "360c645f25e04c55806d1789a706f2ab"
            }
          },
          "metadata": {}
        },
        {
          "output_type": "display_data",
          "data": {
            "text/plain": [
              "vocab.json: 0.00B [00:00, ?B/s]"
            ],
            "application/vnd.jupyter.widget-view+json": {
              "version_major": 2,
              "version_minor": 0,
              "model_id": "2f7b2777962d4b93b0b58a788539b6ac"
            }
          },
          "metadata": {}
        },
        {
          "output_type": "display_data",
          "data": {
            "text/plain": [
              "merges.txt: 0.00B [00:00, ?B/s]"
            ],
            "application/vnd.jupyter.widget-view+json": {
              "version_major": 2,
              "version_minor": 0,
              "model_id": "5c48b8d543264702b849b2154e07db72"
            }
          },
          "metadata": {}
        },
        {
          "output_type": "display_data",
          "data": {
            "text/plain": [
              "tokenizer.json: 0.00B [00:00, ?B/s]"
            ],
            "application/vnd.jupyter.widget-view+json": {
              "version_major": 2,
              "version_minor": 0,
              "model_id": "c4b31489e4a54e27b0ed8656b8697f86"
            }
          },
          "metadata": {}
        },
        {
          "output_type": "stream",
          "name": "stderr",
          "text": [
            "Device set to use cuda\n"
          ]
        }
      ],
      "source": [
        "roberta = pipeline(\"zero-shot-classification\",model=\"facebook/bart-large-mnli\", device=\"cuda\")"
      ]
    },
    {
      "cell_type": "code",
      "execution_count": null,
      "metadata": {
        "colab": {
          "base_uri": "https://localhost:8080/"
        },
        "id": "soYFA7IfNvwZ",
        "outputId": "1df1de07-e7e0-4418-9bad-a2d2af8be11b"
      },
      "outputs": [
        {
          "output_type": "execute_result",
          "data": {
            "text/plain": [
              "{'sequence': 'My son is sick and need to be hospitalized',\n",
              " 'labels': ['health insurance',\n",
              "  'others',\n",
              "  'accident claim',\n",
              "  'property damage',\n",
              "  'auto insurance'],\n",
              " 'scores': [0.2930046021938324,\n",
              "  0.2727587819099426,\n",
              "  0.2695525288581848,\n",
              "  0.10408513993024826,\n",
              "  0.06059896573424339]}"
            ]
          },
          "metadata": {},
          "execution_count": 4
        }
      ],
      "source": [
        "sequence_to_classify = \"My son is sick and need to be hospitalized\"\n",
        "candidate_labels = ['health insurance','auto insurance','property damage', 'accident claim', 'others']\n",
        "output = roberta(sequence_to_classify, candidate_labels)\n",
        "output"
      ]
    },
    {
      "cell_type": "code",
      "source": [
        "sequence_to_classify = \"Our last quarter sales was $100 and this is confidential\"\n",
        "candidate_labels = ['sensitive info','public info']\n",
        "output = roberta(sequence_to_classify, candidate_labels)\n",
        "output"
      ],
      "metadata": {
        "colab": {
          "base_uri": "https://localhost:8080/"
        },
        "id": "i3APo3x2Iu9n",
        "outputId": "2b4af6a7-c770-4cba-a125-dc537663207b"
      },
      "execution_count": null,
      "outputs": [
        {
          "output_type": "execute_result",
          "data": {
            "text/plain": [
              "{'sequence': 'Our last quarter sales was $100 and this is confidential',\n",
              " 'labels': ['sensitive info', 'public info'],\n",
              " 'scores': [0.9945440292358398, 0.0054559120908379555]}"
            ]
          },
          "metadata": {},
          "execution_count": 7
        }
      ]
    },
    {
      "cell_type": "code",
      "source": [
        "sequence_to_classify = \"\"\"Subject: Action Plan & Next Steps for Project Alpha\n",
        "Hi Team,\n",
        "Following up on our discussion, I've outlined a clear action plan to boost our team's productivity and ensure we meet our upcoming deadlines for Project Alpha.\n",
        "Here are the key tasks and their owners:\n",
        "Task 1: Finalize Q3 Report - Assigned to: [Name] - Deadline: End of Day, Friday.\n",
        "Task 2: Develop a new marketing strategy - Assigned to: [Name] - Deadline: Wednesday, next week.\n",
        "Task 3: Schedule a follow-up meeting to track our progress.\n",
        "I've also shared a document with some time management and workflow optimization tips that I believe will be beneficial. Please review it and come prepared to our next meeting to discuss how we can implement these strategies.\n",
        "Our goal is to enhance our overall efficiency and achieve our targets. Let's work together to make this a success.\n",
        "Best,\n",
        "[Your Name]\"\"\"\n",
        "candidate_labels = ['task','event', 'tutorial','work']\n",
        "output = roberta(sequence_to_classify, candidate_labels)\n",
        "output"
      ],
      "metadata": {
        "colab": {
          "base_uri": "https://localhost:8080/"
        },
        "id": "5ho7cg45IvCj",
        "outputId": "69d8b280-f1ae-4ca3-a266-ace6bee3ae4c"
      },
      "execution_count": null,
      "outputs": [
        {
          "output_type": "execute_result",
          "data": {
            "text/plain": [
              "{'sequence': \"Subject: Action Plan & Next Steps for Project Alpha\\nHi Team,\\nFollowing up on our discussion, I've outlined a clear action plan to boost our team's productivity and ensure we meet our upcoming deadlines for Project Alpha.\\nHere are the key tasks and their owners:\\nTask 1: Finalize Q3 Report - Assigned to: [Name] - Deadline: End of Day, Friday.\\nTask 2: Develop a new marketing strategy - Assigned to: [Name] - Deadline: Wednesday, next week.\\nTask 3: Schedule a follow-up meeting to track our progress.\\nI've also shared a document with some time management and workflow optimization tips that I believe will be beneficial. Please review it and come prepared to our next meeting to discuss how we can implement these strategies.\\nOur goal is to enhance our overall efficiency and achieve our targets. Let's work together to make this a success.\\nBest,\\n[Your Name]\",\n",
              " 'labels': ['task', 'event', 'work', 'tutorial'],\n",
              " 'scores': [0.4160120487213135,\n",
              "  0.3099896311759949,\n",
              "  0.21022887527942657,\n",
              "  0.06376942992210388]}"
            ]
          },
          "metadata": {},
          "execution_count": 8
        }
      ]
    },
    {
      "cell_type": "code",
      "source": [
        "sequence_to_classify = \"Our organization's next quarter sales is likely to drop\"\n",
        "candidate_labels = ['company information','public infiormation']\n",
        "output = roberta(sequence_to_classify, candidate_labels)\n",
        "output"
      ],
      "metadata": {
        "id": "-HeknIDKKtRy"
      },
      "execution_count": null,
      "outputs": []
    },
    {
      "cell_type": "code",
      "source": [
        "sequence_to_classify = \"Bug in our web frontend page\"\n",
        "candidate_labels = ['HTML','Backend','OS', 'DB', 'others']\n",
        "output = roberta(sequence_to_classify, candidate_labels)\n",
        "output"
      ],
      "metadata": {
        "id": "W6KeelL1-Kv-"
      },
      "execution_count": null,
      "outputs": []
    },
    {
      "cell_type": "code",
      "source": [
        "sequence_to_classify = \"How do I make biriyani well?\"\n",
        "candidate_labels = ['billing','account creation','product issues', 'other']\n",
        "output = roberta(sequence_to_classify, candidate_labels)\n",
        "output"
      ],
      "metadata": {
        "id": "BZOtVpqA__6l"
      },
      "execution_count": null,
      "outputs": []
    },
    {
      "cell_type": "code",
      "execution_count": null,
      "metadata": {
        "id": "PbWv6GUb6R1c"
      },
      "outputs": [],
      "source": [
        "sequence_to_classify = \"Virat Kohli is an awesome player.\"\n",
        "candidate_labels = ['cricket', 'football', 'tennis', 'medicine']\n",
        "output = roberta(sequence_to_classify, candidate_labels)\n",
        "output\n"
      ]
    },
    {
      "cell_type": "code",
      "execution_count": null,
      "metadata": {
        "id": "qv9MZ35RPUBF"
      },
      "outputs": [],
      "source": [
        "# Find the index of the highest score\n",
        "max_score_index = output['scores'].index(max(output['scores']))\n",
        "\n",
        "# Retrieve the corresponding label\n",
        "label_with_highest_score = output['labels'][max_score_index]\n",
        "\n",
        "# Print the label\n",
        "print(\"Label with the highest score:\", label_with_highest_score)"
      ]
    },
    {
      "cell_type": "markdown",
      "metadata": {
        "id": "fl_vmVbg9ga_"
      },
      "source": [
        "## 2. Text Summarization"
      ]
    },
    {
      "cell_type": "code",
      "execution_count": null,
      "metadata": {
        "id": "OfQS_Chr8r5v"
      },
      "outputs": [],
      "source": [
        "summarizer = pipeline(task=\"summarization\",model=\"Falconsai/text_summarization\")"
      ]
    },
    {
      "cell_type": "code",
      "execution_count": null,
      "metadata": {
        "id": "n_-A_NJ-86Ix"
      },
      "outputs": [],
      "source": [
        "news = \"\"\" Even as the decision to omit Shreyas Iyer and Ishan Kishan from the central contracts list for not turning up for domestic tournaments continues to receive mixed reactions, there was plenty of discussion about Hardik Pandya’s inclusion as well. The Indian Express understands that the selectors and the BCCI only handed Hardik a contract after the all-rounder gave an undertaking that if there are no white-ball commitments with the national team, he would feature for Baroda in the Syed Mushtaq Ali T20s and Vijay Hazare Trophy.\n",
        "\n",
        "During the recent meeting, apart from Shreyas and Ishan, there was discussion regarding Pandya’s place in Grade A of the annual contract list as well. Since injuring his ankle during the World Cup in October, Pandya had remained out of action till last week when he returned to competitive cricket in the DY Patil tournament, where he is turning out for Reliance. Like Ishan, Pandya has been training individually in Vadodara, but what worked in his favour is that he has been reporting at the National Cricket Academy (NCA) on a time-to-time basis to have his fitness assessed.\n",
        "\n",
        "According to a top BCCI official, Pandya has also given assurance that he would feature in domestic tournaments if they don’t overlap with international commitments. “We have had discussions with Pandya, who has been told to play domestic white-ball tournaments when he is available. At this stage, according to the assessment of the BCCI’s medical team, he is not in a position to bowl in red-ball tournaments. So playing Ranji Trophy is out of the equation for Pandya. But he has to play other white-ball tournaments if there are no India commitments. If not, he will miss out on a contract,” the official told The Indian Express.\n",
        "\n",
        "According to the Future Tours Programme, India are scheduled to play only three T20Is at home against Bangladesh as the team has a busy Test calendar. In the October-December period, when India don’t have any white-ball commitments, the Syed Mushtaq Ali T20s and Vijay Hazare Trophy would be conducted. And unless Pandya has any fitness issues, he has been directed to feature in both these tournaments.\n",
        "\n",
        "Different yardsticks\n",
        "While former cricketers have welcomed the BCCI’s decision to drop Shreyas and Ishan from the contracts list, Irfan Pathan raised the question regarding Pandya on X (previously Twitter). “They are talented cricketers, both Shreyas and Ishan. Hoping they bounce back and come back stronger. If players like Hardik don’t want to play red-ball cricket, should he and others like him participate in white-ball cricket when they aren’t on national duty? If this doesn’t apply to all, then Indian cricket won’t achieve the desired results!” Pathan tweeted on Thursday morning.\n",
        "\n",
        "Festive offer\n",
        "Also Read | How missing Ranji Trophy games resulted in Shreyas Iyer and Ishan Kishan being dropped from BCCI’s central contract list\n",
        "It is understood that the BCCI will also instruct contracted players to report to their respective state units when they are not part of the national team set-up. There have been instances when in the middle of the domestic season, players from several states attended short camps with their respective IPL franchises, a move which didn’t go down well with the state units. Shreyas, for instance, attended a Kolkata Knight Riders camp after missing a Ranji fixture with Mumbai.\n",
        "\n",
        "\n",
        "\n",
        "On Wednesday, based on the recommendations of the selectors, BCCI secretary Jay Shah announced that Shreyas and Ishan were not considered for the 2023-24 annual contracts. Though the two were part of the national set-up across all three formats for the majority of 2023, that the duo didn’t turn up for Ranji Trophy had drawn sharp criticism from several quarters. And despite Shah writing to contracted players, urging them to participate in the tournament, Shreyas and Ishan missed the next round of Ranji fixtures.\n",
        "\"\"\"\n",
        "summarizer(news)"
      ]
    },
    {
      "cell_type": "code",
      "source": [
        "shell_news = \"\"\"\n",
        "Who we are\n",
        "Shell is a global group of energy and petrochemical companies, employing around 103,000 people [A] and with operations in more than 70 countries.\n",
        "\n",
        "We seek to provide the world with the energy it needs today, while helping it build a sustainable energy future.\n",
        "\n",
        "Our competitive advantages are built upon our large and diverse portfolio, people who have outstanding talent, strong technological capability and deep customer reach, which we are leveraging to help enable a balanced energy transition.\n",
        "\n",
        "Shell's stakeholders include our customers, investors, employees and contractors, pensioners, our strategic partners and suppliers, the communities where we work, civil society, academia and think tanks, governments and regulators.\n",
        "\n",
        "We expect our employees and contractors to maintain our focus on safety and abide by our core values of honesty, integrity and respect for people.\n",
        "\n",
        "[A] At December 31, 2023.\n",
        "\n",
        "Our operating businesses\n",
        "Sunset view of the Vito platform surrounded by several boats (photo)\n",
        "Integrated Gas and Upstream\n",
        "Integrated Gas and Upstream (IGU) explores for and extracts crude oil, natural gas and natural gas liquids. It delivers hydrocarbon products from conventional oil and gas operations, deep-water exploration and production, liquefied natural gas (LNG) activities, and converts natural gas into gas-to-liquids (GTL) fuels and other products. The marketing, trading and optimisation of LNG are included in IGU. IGU provides the secure energy customers need and we aim to do this with lower emissions.\n",
        "\n",
        "Reporting segments\n",
        "Integrated Gas | Upstream\n",
        "\n",
        "Looking-up perspective of a wind turbine against blue sky (photo)\n",
        "Downstream, Renewables and Energy Solutions\n",
        "Downstream, Renewables and Energy Solutions (R&ES) provides products and services to more than 1 million business customers. It includes Chemicals and Products, and Marketing, which includes Mobility – a business that serves around 33 million retail customers a day at more than 47,000 service stations. Marketing also includes Lubricants, and Sectors and Decarbonisation activities. Downstream and R&ES, underpinned by Trading and Supply, aims to meet the evolving energy needs of our customers.\n",
        "\n",
        "Reporting segments\n",
        "Marketing | Chemicals and Products | Renewables and Energy Solutions\n",
        "\n",
        "Innovation\n",
        "Technological innovation is integral to our pursuit of more and cleaner energy solutions as we work towards becoming a net-zero emissions energy business by 2050. Projects & Technology (P&T) manages major projects, driving innovation, while delivering technical services to our businesses. P&T provides essential functional leadership across Shell, addressing safety and environment, contracting and procurement, and greenhouse gas emissions management. Our research and development activities also encompass safety, performance products, and automation and artificial intelligence.\n",
        "\"\"\"\n",
        "summarizer(shell_news)"
      ],
      "metadata": {
        "id": "suxZcUBdS92M"
      },
      "execution_count": null,
      "outputs": []
    },
    {
      "cell_type": "markdown",
      "metadata": {
        "id": "JavIk8Ww_t_j"
      },
      "source": [
        "## 3. Generate Text embeddings"
      ]
    },
    {
      "cell_type": "code",
      "execution_count": null,
      "metadata": {
        "id": "bk-dns0Z_Vir"
      },
      "outputs": [],
      "source": [
        "feature_extractor = pipeline(\"feature-extraction\",framework=\"pt\",model=\"sentence-transformers/all-mpnet-base-v2\")"
      ]
    },
    {
      "cell_type": "code",
      "execution_count": null,
      "metadata": {
        "id": "WOD4oKZe_dup"
      },
      "outputs": [],
      "source": [
        "feature_extractor(\"The students are having an awesome time!\",return_tensors = \"pt\")[0].numpy().mean(axis=0)"
      ]
    },
    {
      "cell_type": "markdown",
      "metadata": {
        "id": "SVgTXyMxAbrP"
      },
      "source": [
        "## 4. Question answering"
      ]
    },
    {
      "cell_type": "code",
      "execution_count": null,
      "metadata": {
        "id": "lMg1gQXJAdq1"
      },
      "outputs": [],
      "source": [
        "qa_model = pipeline(task=\"question-answering\", model=\"deepset/roberta-base-squad2\")"
      ]
    },
    {
      "cell_type": "code",
      "execution_count": null,
      "metadata": {
        "id": "M2PebUQqAtET"
      },
      "outputs": [],
      "source": [
        "qa_model(question=\"Who is the state leader mentioned?\",context=\"Today Eknath Shinde presided over the innaguration of the assembly. he is the cm of maharashtra.\")"
      ]
    },
    {
      "cell_type": "markdown",
      "metadata": {
        "id": "7sUPQ79vGD08"
      },
      "source": [
        "## 5. Translation between two major languages"
      ]
    },
    {
      "cell_type": "code",
      "execution_count": null,
      "metadata": {
        "id": "VasKZAQuB1dc"
      },
      "outputs": [],
      "source": [
        "from transformers import MBartForConditionalGeneration, MBart50TokenizerFast\n",
        "model_name = \"facebook/mbart-large-50-many-to-many-mmt\"\n",
        "\n",
        "\n",
        "model = MBartForConditionalGeneration.from_pretrained(model_name)\n",
        "tokenizer = MBart50TokenizerFast.from_pretrained(model_name, src_lang=\"en_XX\")\n",
        "translation = pipeline(task=\"translation\",model=model,tokenizer=tokenizer)"
      ]
    },
    {
      "cell_type": "code",
      "execution_count": null,
      "metadata": {
        "id": "w4SnPI52CucY"
      },
      "outputs": [],
      "source": [
        "translation(\"Combat Loneliness Mitra gets to know you better every day, improving the quality of conversation providing constant support and companionship.\", src_lang=\"en_XX\", tgt_lang=\"hi_IN\")\n"
      ]
    },
    {
      "cell_type": "markdown",
      "metadata": {
        "id": "2KwwEHYVJbhb"
      },
      "source": [
        "## 6. Multimodal Models for Visual Question Answering\n",
        "This has a separate [notebook](https://colab.research.google.com/drive/1YJ5pxuESgwcc107pNVIxh7uD2SWxRPDY#scrollTo=Kmb8h7TrWz5b) now."
      ]
    },
    {
      "cell_type": "code",
      "execution_count": null,
      "metadata": {
        "id": "z_Uqj1_cLo9K"
      },
      "outputs": [],
      "source": [
        "import locale\n",
        "locale.getpreferredencoding = lambda: \"UTF-8\"\n",
        "\n",
        "!apt install -y tesseract-ocr\n",
        "!pip install -q -U pytesseract"
      ]
    },
    {
      "cell_type": "markdown",
      "metadata": {
        "id": "VXVV16DZNVdU"
      },
      "source": [
        "> Restart the session after the previous apt install"
      ]
    },
    {
      "cell_type": "code",
      "execution_count": null,
      "metadata": {
        "id": "Y5ybG-ATNRmK"
      },
      "outputs": [],
      "source": [
        "from transformers import pipeline"
      ]
    },
    {
      "cell_type": "code",
      "execution_count": null,
      "metadata": {
        "id": "jnyao_8hJMVS"
      },
      "outputs": [],
      "source": [
        "vqa = pipeline(model=\"impira/layoutlm-document-qa\")\n",
        "image = \"https://templates.invoicehome.com/invoice-template-us-neat-750px.png\"\n",
        "vqa(image=image,question=\"What is the invoice date?\")"
      ]
    },
    {
      "cell_type": "code",
      "execution_count": null,
      "metadata": {
        "id": "dEI97-taOWa7"
      },
      "outputs": [],
      "source": [
        "vqa(image=image,question=\"What is the balance due?\")"
      ]
    },
    {
      "cell_type": "code",
      "execution_count": null,
      "metadata": {
        "id": "g4KURoceOy3e"
      },
      "outputs": [],
      "source": [
        "vqa(image=image,question=\"what is teh address\")"
      ]
    },
    {
      "cell_type": "markdown",
      "metadata": {
        "id": "YV5kXGKSSDlk"
      },
      "source": [
        "## 7. Answering questions based on tabular data"
      ]
    },
    {
      "cell_type": "code",
      "execution_count": null,
      "metadata": {
        "id": "PJ1JnShdReU6"
      },
      "outputs": [],
      "source": [
        "tqa = pipeline(task=\"table-question-answering\", model=\"google/tapas-large-finetuned-wtq\")"
      ]
    },
    {
      "cell_type": "code",
      "execution_count": null,
      "metadata": {
        "id": "KoHNg5ohRwuz"
      },
      "outputs": [],
      "source": [
        "data = {\"Actors\": [\"Brad Pitt\", \"Leonardo Di Caprio\", \"George Clooney\"], \"Number of movies\": [\"87\", \"53\", \"69\"]}\n",
        "import pandas as pd\n",
        "tqa(table=pd.DataFrame.from_dict(data), query=\"how many movies does Leonardo Di Caprio have?\")"
      ]
    },
    {
      "cell_type": "markdown",
      "metadata": {
        "id": "gxflKz6xTuiw"
      },
      "source": [
        "##8. Answering questions on Documents\n",
        "Has some similarities with the VQA, but the models here are custom trained for documents such as PDFs and spreadsheets"
      ]
    },
    {
      "cell_type": "code",
      "execution_count": null,
      "metadata": {
        "id": "S0_h3LV6Siqr"
      },
      "outputs": [],
      "source": [
        "from PIL import Image\n",
        "dqa = pipeline(\"document-question-answering\", model=\"naver-clova-ix/donut-base-finetuned-docvqa\")"
      ]
    },
    {
      "cell_type": "code",
      "execution_count": null,
      "metadata": {
        "id": "gAefx6QbSoVq"
      },
      "outputs": [],
      "source": [
        "dqa(question=\"What is the balance due?\", image=\"https://www.invoicesimple.com/wp-content/uploads/2018/06/Sample-Invoice-printable.png\")"
      ]
    },
    {
      "cell_type": "markdown",
      "metadata": {
        "id": "7tMs8ZnuQotJ"
      },
      "source": [
        "## 9. Text Sentiment Analysis"
      ]
    },
    {
      "cell_type": "code",
      "execution_count": null,
      "metadata": {
        "id": "NuU0dPrAP4ks"
      },
      "outputs": [],
      "source": [
        "sentiment = pipeline(model=\"lxyuan/distilbert-base-multilingual-cased-sentiments-student\", return_all_scores=True)"
      ]
    },
    {
      "cell_type": "code",
      "execution_count": null,
      "metadata": {
        "id": "Kbironr7P-oM"
      },
      "outputs": [],
      "source": [
        "sentiment(\"Apple stock is crazy awesome. Buy that stock for sure.\")"
      ]
    },
    {
      "cell_type": "markdown",
      "metadata": {
        "id": "-MmEYw0nSKV_"
      },
      "source": [
        "## 10. Let's do Text Generation\n",
        "### 10a. Let's try with GPT2"
      ]
    },
    {
      "cell_type": "code",
      "execution_count": null,
      "metadata": {
        "id": "qB5qAf1FGYPn"
      },
      "outputs": [],
      "source": [
        "text_generation = pipeline(task=\"text-generation\",model=\"gpt2\")"
      ]
    },
    {
      "cell_type": "code",
      "execution_count": null,
      "metadata": {
        "id": "_1r1muFFGru2"
      },
      "outputs": [],
      "source": [
        "text_generation(\"Siemens mobility builds rail \")"
      ]
    },
    {
      "cell_type": "markdown",
      "metadata": {
        "id": "rTapDYl8HBe4"
      },
      "source": [
        "### Let's try something complex"
      ]
    },
    {
      "cell_type": "code",
      "execution_count": null,
      "metadata": {
        "id": "B8KI_oljHHKS"
      },
      "outputs": [],
      "source": [
        "text_generation(\"Summary of the Indian Constituition\")"
      ]
    },
    {
      "cell_type": "markdown",
      "metadata": {
        "id": "_TE9a6Rj97Lh"
      },
      "source": [
        "### This hallucinates like hell. Good that we went beyond GPT2!\n",
        "We will be using Mistral 7B that is a very good model (as of Jan 2024). But, it won't fit in the free Colab directly. We need to start with Quantization to fit the model in memory.\n",
        "\n",
        "## 10b: Text generation with Mistral\n",
        "### Step 1: Setting up acceleration and quantization"
      ]
    },
    {
      "cell_type": "code",
      "execution_count": null,
      "metadata": {
        "id": "jHsDimce_MJZ"
      },
      "outputs": [],
      "source": [
        "!pip install -q -U bitsandbytes torch accelerate"
      ]
    },
    {
      "cell_type": "markdown",
      "metadata": {
        "id": "N4asf6o0PVS2"
      },
      "source": [
        "> Restart session after installing accelerate"
      ]
    },
    {
      "cell_type": "code",
      "execution_count": null,
      "metadata": {
        "id": "OYKc19shAQBi"
      },
      "outputs": [],
      "source": [
        "from transformers import BitsAndBytesConfig, AutoModelForCausalLM, AutoTokenizer, pipeline\n",
        "import torch\n",
        "\n",
        "quantization_config = BitsAndBytesConfig(\n",
        "    load_in_4bit=True,\n",
        "    bnb_4bit_compute_dtype=torch.float16,\n",
        "    bnb_4bit_quant_type=\"nf4\",\n",
        "    bnb_4bit_use_double_quant=True,\n",
        ")"
      ]
    },
    {
      "cell_type": "code",
      "execution_count": null,
      "metadata": {
        "colab": {
          "background_save": true
        },
        "id": "XPmuxU67Cns0"
      },
      "outputs": [],
      "source": [
        "model_id = \"mistralai/Mistral-7B-Instruct-v0.1\"\n",
        "model_4bit = AutoModelForCausalLM.from_pretrained( model_id, device_map=\"auto\",quantization_config=quantization_config)\n",
        "tokenizer = AutoTokenizer.from_pretrained(model_id)"
      ]
    },
    {
      "cell_type": "markdown",
      "metadata": {
        "id": "0fIQJNiLS7J9"
      },
      "source": [
        "### Step 2: Setting up the pipeline to use with Langchain"
      ]
    },
    {
      "cell_type": "code",
      "execution_count": null,
      "metadata": {
        "id": "x7vZJFBn7GeR"
      },
      "outputs": [],
      "source": [
        "!pip install --upgrade --quiet langchain langchain-community\n",
        "from langchain_community.llms.huggingface_pipeline import HuggingFacePipeline"
      ]
    },
    {
      "cell_type": "code",
      "execution_count": null,
      "metadata": {
        "id": "RJpHFAyY-CeV"
      },
      "outputs": [],
      "source": [
        "hf = pipeline(\n",
        "    task=\"text-generation\",\n",
        "    model=model_4bit, #Quantized\n",
        "    tokenizer=tokenizer,\n",
        "    eos_token_id=tokenizer.eos_token_id,\n",
        "    pad_token_id=tokenizer.eos_token_id,\n",
        "    use_cache=True,\n",
        "    max_length=500,\n",
        ")\n",
        "llm_mistral = HuggingFacePipeline(pipeline=hf)"
      ]
    },
    {
      "cell_type": "code",
      "execution_count": null,
      "metadata": {
        "id": "Bx-A9MSZ-3fX"
      },
      "outputs": [],
      "source": [
        "from langchain import PromptTemplate, LLMChain\n",
        "template = \"\"\"Question: {question}\n",
        "\n",
        "Summary: Summarize the following for a layman.\"\"\"\n",
        "summary_prompt = PromptTemplate.from_template(template)\n",
        "summary_chain_m = summary_prompt | llm_mistral"
      ]
    },
    {
      "cell_type": "code",
      "execution_count": null,
      "metadata": {
        "id": "dBx0OQdDJCS5"
      },
      "outputs": [],
      "source": [
        "summary_chain_m.invoke({\"question\": \"Summary of the Indian Constituition\"})"
      ]
    },
    {
      "cell_type": "markdown",
      "metadata": {
        "id": "UbV33mCyKPB0"
      },
      "source": [
        "### Step 3: Let's now change the prompt to something more powerful"
      ]
    },
    {
      "cell_type": "code",
      "execution_count": null,
      "metadata": {
        "id": "QttXbdy4JIw9"
      },
      "outputs": [],
      "source": [
        "template = \"\"\"Give a critical commentary and explain the background for this political context for a non-US resident:\n",
        "{context}\n",
        "\"\"\"\n",
        "prompt = PromptTemplate(template=template, input_variables=[\"question\",\"context\"])\n",
        "chain = prompt | llm_mistral"
      ]
    },
    {
      "cell_type": "code",
      "execution_count": null,
      "metadata": {
        "id": "mjHl3xe5G3jB"
      },
      "outputs": [],
      "source": [
        "context = \"\"\"\n",
        "The Biden administration told the Supreme Court that “Texas has effectively prevented Border Patrol from monitoring the border” at Shelby Park. The state has defended the seizure, with Attorney General Ken Paxton saying he “will continue to defend Texas’s efforts to protect its southern border” against the federal government's attempts to undermine it.\n",
        "\n",
        "At a ranch outside Eagle Pass where Abbott sympathizers gathered ahead of Saturday's rally, vendors sold Donald Trump-inspired MAGA hats and Trump flags. A homemade sign read, \"The federal government has lost its way. Their job is to protect the states.”\n",
        "\n",
        "Julio Vasquez, pastor of Iglesia Luterana San Lucas in Eagle Pass, said Abbott's campaign is a waste of money because migrants “come with empty hands asking for help.”\n",
        "\n",
        "Alicia Garcia, a lifelong Eagle Pass resident who avoids Shelby Park but attended Friday's annual rodeo-themed festival at the nearby international bridge, questioned the value of Abbott's efforts because many asylum-seekers are released by U.S. authorities to argue their cases in immigration court.\n",
        "\n",
        "“What’s with the show?” said Garcia, 38. \"Better to just break everything down if they are still crossing.”\n",
        "\"\"\"\n",
        "\n",
        "chain.invoke({\"context\":context})"
      ]
    },
    {
      "cell_type": "markdown",
      "metadata": {
        "id": "qeKTzh3UTXtk"
      },
      "source": [
        "## Step 4: Bringing capabilities of Code execution"
      ]
    },
    {
      "cell_type": "code",
      "execution_count": null,
      "metadata": {
        "id": "ZnntTah8LskU"
      },
      "outputs": [],
      "source": [
        "import locale\n",
        "locale.getpreferredencoding = lambda: \"UTF-8\"\n",
        "!pip install -U -q langchain-experimental\n",
        "from langchain_core.prompts import ChatPromptTemplate\n",
        "from langchain_core.output_parsers import StrOutputParser\n",
        "from langchain_experimental.utilities import PythonREPL"
      ]
    },
    {
      "cell_type": "code",
      "execution_count": null,
      "metadata": {
        "id": "ROw34zNqL1au"
      },
      "outputs": [],
      "source": [
        "def _sanitize_output(text: str):\n",
        "    _, after = text.split(\"```python\")\n",
        "    return after.split(\"```\")[0]\n",
        "\n",
        "template = \"\"\"Write python code to solve the user's problem: {problem}.\n",
        "\n",
        "Return only python code in Markdown format, e.g.:\n",
        "\n",
        "```python\n",
        "....\n",
        "```\"\"\"\n",
        "prompt = ChatPromptTemplate.from_template(template)\n",
        "chain = prompt | llm_mistral | StrOutputParser() | _sanitize_output | PythonREPL().run"
      ]
    },
    {
      "cell_type": "code",
      "execution_count": null,
      "metadata": {
        "id": "9NoX6JnzMFCL"
      },
      "outputs": [],
      "source": [
        "chain.invoke({\"problem\": \"What is 2 plus 2\"})"
      ]
    },
    {
      "cell_type": "markdown",
      "metadata": {
        "id": "HmMPygJg47-Z"
      },
      "source": [
        "## We can try for non-textual data"
      ]
    },
    {
      "cell_type": "markdown",
      "metadata": {
        "id": "bOxyo3E26ab-"
      },
      "source": [
        "##11. Image Classification"
      ]
    },
    {
      "cell_type": "code",
      "execution_count": null,
      "metadata": {
        "id": "qpI8Qowl4BdS"
      },
      "outputs": [],
      "source": [
        "vision_classifier = pipeline(task=\"image-classification\",model=\"google/vit-base-patch16-224\")"
      ]
    },
    {
      "cell_type": "code",
      "execution_count": null,
      "metadata": {
        "id": "QnL3bq3u4dnb"
      },
      "outputs": [],
      "source": [
        "preds = vision_classifier(inputs=\"https://upload.wikimedia.org/wikipedia/commons/thumb/a/a4/2019_Toyota_Corolla_Icon_Tech_VVT-i_Hybrid_1.8.jpg/1200px-2019_Toyota_Corolla_Icon_Tech_VVT-i_Hybrid_1.8.jpg\")\n",
        "preds = [{\"score\": round(pred[\"score\"], 4), \"label\": pred[\"label\"]} for pred in preds]\n",
        "preds"
      ]
    },
    {
      "cell_type": "markdown",
      "metadata": {
        "id": "NomQB6X96Wkt"
      },
      "source": [
        "## 12. Speech Recognition"
      ]
    },
    {
      "cell_type": "code",
      "execution_count": null,
      "metadata": {
        "id": "Xi_lUOxy54s8"
      },
      "outputs": [],
      "source": [
        "transcriber = pipeline(model=\"openai/whisper-small\", chunk_length_s=30, return_timestamps=True)"
      ]
    },
    {
      "cell_type": "code",
      "source": [],
      "metadata": {
        "id": "vmUOZPo8euUk"
      },
      "execution_count": null,
      "outputs": []
    },
    {
      "cell_type": "code",
      "execution_count": null,
      "metadata": {
        "id": "hftFKyXS6Iav"
      },
      "outputs": [],
      "source": [
        "transcriber(\"https://www.signalogic.com/melp/EngSamples/male600.wav\")"
      ]
    },
    {
      "cell_type": "markdown",
      "metadata": {
        "id": "gcdRgLFDV0yl"
      },
      "source": [
        "## 13. Video classification\n",
        "\n",
        "\n"
      ]
    },
    {
      "cell_type": "code",
      "execution_count": null,
      "metadata": {
        "id": "-QIBvVHe77R9"
      },
      "outputs": [],
      "source": [
        "!pip install -q -U decord"
      ]
    },
    {
      "cell_type": "markdown",
      "metadata": {
        "id": "iMWwHHSVFTOo"
      },
      "source": [
        "**Restart session after installing decord**"
      ]
    },
    {
      "cell_type": "code",
      "execution_count": null,
      "metadata": {
        "id": "DQDDI1OaVcHD"
      },
      "outputs": [],
      "source": [
        "from transformers import pipeline"
      ]
    },
    {
      "cell_type": "code",
      "execution_count": null,
      "metadata": {
        "id": "Q9Oydwp8E7Aq"
      },
      "outputs": [],
      "source": [
        "videoclassifer = pipeline(task = \"video-classification\", model=\"nateraw/videomae-base-finetuned-ucf101-subset\")"
      ]
    },
    {
      "cell_type": "code",
      "execution_count": null,
      "metadata": {
        "id": "PK5_GUoLVrO6"
      },
      "outputs": [],
      "source": [
        "videoclassifer(\"https://huggingface.co/datasets/huggingface/documentation-images/resolve/main/transformers/basketball.avi?download=true\")\n"
      ]
    },
    {
      "cell_type": "code",
      "execution_count": null,
      "metadata": {
        "id": "CILl3-c0VJ5Q"
      },
      "outputs": [],
      "source": []
    },
    {
      "cell_type": "code",
      "metadata": {
        "id": "a340481a"
      },
      "source": [
        "import requests\n",
        "from PIL import Image\n",
        "from io import BytesIO\n",
        "\n",
        "image_url = \"https://upload.wikimedia.org/wikipedia/commons/thumb/a/a4/2019_Toyota_Corolla_Icon_Tech_VVT-i_Hybrid_1.8.jpg/1200px-2019_Toyota_Corolla_Icon_Tech_VVT-i_Hybrid_1.8.jpg\"\n",
        "response = requests.get(image_url)\n",
        "image = Image.open(BytesIO(response.content))\n",
        "\n",
        "preds = vision_classifier(inputs=image)\n",
        "preds = [{\"score\": round(pred[\"score\"], 4), \"label\": pred[\"label\"]} for pred in preds]\n",
        "preds"
      ],
      "execution_count": null,
      "outputs": []
    }
  ],
  "metadata": {
    "accelerator": "GPU",
    "colab": {
      "gpuType": "T4",
      "provenance": [],
      "include_colab_link": true
    },
    "kernelspec": {
      "display_name": "Python 3",
      "name": "python3"
    },
    "language_info": {
      "name": "python"
    },
    "widgets": {
      "application/vnd.jupyter.widget-state+json": {
        "ef97fdaaaeec4ea9b1cd30aca49f5674": {
          "model_module": "@jupyter-widgets/controls",
          "model_name": "HBoxModel",
          "model_module_version": "1.5.0",
          "state": {
            "_dom_classes": [],
            "_model_module": "@jupyter-widgets/controls",
            "_model_module_version": "1.5.0",
            "_model_name": "HBoxModel",
            "_view_count": null,
            "_view_module": "@jupyter-widgets/controls",
            "_view_module_version": "1.5.0",
            "_view_name": "HBoxView",
            "box_style": "",
            "children": [
              "IPY_MODEL_b6418058546b43658c355da8e1ac9d13",
              "IPY_MODEL_e420d967dec64f08aeee655acf1075c4",
              "IPY_MODEL_6089b3b708c447d792f82d02fef73c76"
            ],
            "layout": "IPY_MODEL_74b71610801d407db6848eb1a13c72c2"
          }
        },
        "b6418058546b43658c355da8e1ac9d13": {
          "model_module": "@jupyter-widgets/controls",
          "model_name": "HTMLModel",
          "model_module_version": "1.5.0",
          "state": {
            "_dom_classes": [],
            "_model_module": "@jupyter-widgets/controls",
            "_model_module_version": "1.5.0",
            "_model_name": "HTMLModel",
            "_view_count": null,
            "_view_module": "@jupyter-widgets/controls",
            "_view_module_version": "1.5.0",
            "_view_name": "HTMLView",
            "description": "",
            "description_tooltip": null,
            "layout": "IPY_MODEL_3be33bec5e10441f92056c0ba259ba20",
            "placeholder": "​",
            "style": "IPY_MODEL_492723a7c6e24245a5c387cc3274a876",
            "value": "config.json: "
          }
        },
        "e420d967dec64f08aeee655acf1075c4": {
          "model_module": "@jupyter-widgets/controls",
          "model_name": "FloatProgressModel",
          "model_module_version": "1.5.0",
          "state": {
            "_dom_classes": [],
            "_model_module": "@jupyter-widgets/controls",
            "_model_module_version": "1.5.0",
            "_model_name": "FloatProgressModel",
            "_view_count": null,
            "_view_module": "@jupyter-widgets/controls",
            "_view_module_version": "1.5.0",
            "_view_name": "ProgressView",
            "bar_style": "success",
            "description": "",
            "description_tooltip": null,
            "layout": "IPY_MODEL_1f3bc46c9c6f4b9d898a783d55040027",
            "max": 1,
            "min": 0,
            "orientation": "horizontal",
            "style": "IPY_MODEL_efaab1b9c29a46ea9bf51bb264d04bfb",
            "value": 1
          }
        },
        "6089b3b708c447d792f82d02fef73c76": {
          "model_module": "@jupyter-widgets/controls",
          "model_name": "HTMLModel",
          "model_module_version": "1.5.0",
          "state": {
            "_dom_classes": [],
            "_model_module": "@jupyter-widgets/controls",
            "_model_module_version": "1.5.0",
            "_model_name": "HTMLModel",
            "_view_count": null,
            "_view_module": "@jupyter-widgets/controls",
            "_view_module_version": "1.5.0",
            "_view_name": "HTMLView",
            "description": "",
            "description_tooltip": null,
            "layout": "IPY_MODEL_cc622e8fd02542e6b2dd700b0c9c26fb",
            "placeholder": "​",
            "style": "IPY_MODEL_b4e5836a8b4541b292740484a6675961",
            "value": " 1.15k/? [00:00&lt;00:00, 25.1kB/s]"
          }
        },
        "74b71610801d407db6848eb1a13c72c2": {
          "model_module": "@jupyter-widgets/base",
          "model_name": "LayoutModel",
          "model_module_version": "1.2.0",
          "state": {
            "_model_module": "@jupyter-widgets/base",
            "_model_module_version": "1.2.0",
            "_model_name": "LayoutModel",
            "_view_count": null,
            "_view_module": "@jupyter-widgets/base",
            "_view_module_version": "1.2.0",
            "_view_name": "LayoutView",
            "align_content": null,
            "align_items": null,
            "align_self": null,
            "border": null,
            "bottom": null,
            "display": null,
            "flex": null,
            "flex_flow": null,
            "grid_area": null,
            "grid_auto_columns": null,
            "grid_auto_flow": null,
            "grid_auto_rows": null,
            "grid_column": null,
            "grid_gap": null,
            "grid_row": null,
            "grid_template_areas": null,
            "grid_template_columns": null,
            "grid_template_rows": null,
            "height": null,
            "justify_content": null,
            "justify_items": null,
            "left": null,
            "margin": null,
            "max_height": null,
            "max_width": null,
            "min_height": null,
            "min_width": null,
            "object_fit": null,
            "object_position": null,
            "order": null,
            "overflow": null,
            "overflow_x": null,
            "overflow_y": null,
            "padding": null,
            "right": null,
            "top": null,
            "visibility": null,
            "width": null
          }
        },
        "3be33bec5e10441f92056c0ba259ba20": {
          "model_module": "@jupyter-widgets/base",
          "model_name": "LayoutModel",
          "model_module_version": "1.2.0",
          "state": {
            "_model_module": "@jupyter-widgets/base",
            "_model_module_version": "1.2.0",
            "_model_name": "LayoutModel",
            "_view_count": null,
            "_view_module": "@jupyter-widgets/base",
            "_view_module_version": "1.2.0",
            "_view_name": "LayoutView",
            "align_content": null,
            "align_items": null,
            "align_self": null,
            "border": null,
            "bottom": null,
            "display": null,
            "flex": null,
            "flex_flow": null,
            "grid_area": null,
            "grid_auto_columns": null,
            "grid_auto_flow": null,
            "grid_auto_rows": null,
            "grid_column": null,
            "grid_gap": null,
            "grid_row": null,
            "grid_template_areas": null,
            "grid_template_columns": null,
            "grid_template_rows": null,
            "height": null,
            "justify_content": null,
            "justify_items": null,
            "left": null,
            "margin": null,
            "max_height": null,
            "max_width": null,
            "min_height": null,
            "min_width": null,
            "object_fit": null,
            "object_position": null,
            "order": null,
            "overflow": null,
            "overflow_x": null,
            "overflow_y": null,
            "padding": null,
            "right": null,
            "top": null,
            "visibility": null,
            "width": null
          }
        },
        "492723a7c6e24245a5c387cc3274a876": {
          "model_module": "@jupyter-widgets/controls",
          "model_name": "DescriptionStyleModel",
          "model_module_version": "1.5.0",
          "state": {
            "_model_module": "@jupyter-widgets/controls",
            "_model_module_version": "1.5.0",
            "_model_name": "DescriptionStyleModel",
            "_view_count": null,
            "_view_module": "@jupyter-widgets/base",
            "_view_module_version": "1.2.0",
            "_view_name": "StyleView",
            "description_width": ""
          }
        },
        "1f3bc46c9c6f4b9d898a783d55040027": {
          "model_module": "@jupyter-widgets/base",
          "model_name": "LayoutModel",
          "model_module_version": "1.2.0",
          "state": {
            "_model_module": "@jupyter-widgets/base",
            "_model_module_version": "1.2.0",
            "_model_name": "LayoutModel",
            "_view_count": null,
            "_view_module": "@jupyter-widgets/base",
            "_view_module_version": "1.2.0",
            "_view_name": "LayoutView",
            "align_content": null,
            "align_items": null,
            "align_self": null,
            "border": null,
            "bottom": null,
            "display": null,
            "flex": null,
            "flex_flow": null,
            "grid_area": null,
            "grid_auto_columns": null,
            "grid_auto_flow": null,
            "grid_auto_rows": null,
            "grid_column": null,
            "grid_gap": null,
            "grid_row": null,
            "grid_template_areas": null,
            "grid_template_columns": null,
            "grid_template_rows": null,
            "height": null,
            "justify_content": null,
            "justify_items": null,
            "left": null,
            "margin": null,
            "max_height": null,
            "max_width": null,
            "min_height": null,
            "min_width": null,
            "object_fit": null,
            "object_position": null,
            "order": null,
            "overflow": null,
            "overflow_x": null,
            "overflow_y": null,
            "padding": null,
            "right": null,
            "top": null,
            "visibility": null,
            "width": "20px"
          }
        },
        "efaab1b9c29a46ea9bf51bb264d04bfb": {
          "model_module": "@jupyter-widgets/controls",
          "model_name": "ProgressStyleModel",
          "model_module_version": "1.5.0",
          "state": {
            "_model_module": "@jupyter-widgets/controls",
            "_model_module_version": "1.5.0",
            "_model_name": "ProgressStyleModel",
            "_view_count": null,
            "_view_module": "@jupyter-widgets/base",
            "_view_module_version": "1.2.0",
            "_view_name": "StyleView",
            "bar_color": null,
            "description_width": ""
          }
        },
        "cc622e8fd02542e6b2dd700b0c9c26fb": {
          "model_module": "@jupyter-widgets/base",
          "model_name": "LayoutModel",
          "model_module_version": "1.2.0",
          "state": {
            "_model_module": "@jupyter-widgets/base",
            "_model_module_version": "1.2.0",
            "_model_name": "LayoutModel",
            "_view_count": null,
            "_view_module": "@jupyter-widgets/base",
            "_view_module_version": "1.2.0",
            "_view_name": "LayoutView",
            "align_content": null,
            "align_items": null,
            "align_self": null,
            "border": null,
            "bottom": null,
            "display": null,
            "flex": null,
            "flex_flow": null,
            "grid_area": null,
            "grid_auto_columns": null,
            "grid_auto_flow": null,
            "grid_auto_rows": null,
            "grid_column": null,
            "grid_gap": null,
            "grid_row": null,
            "grid_template_areas": null,
            "grid_template_columns": null,
            "grid_template_rows": null,
            "height": null,
            "justify_content": null,
            "justify_items": null,
            "left": null,
            "margin": null,
            "max_height": null,
            "max_width": null,
            "min_height": null,
            "min_width": null,
            "object_fit": null,
            "object_position": null,
            "order": null,
            "overflow": null,
            "overflow_x": null,
            "overflow_y": null,
            "padding": null,
            "right": null,
            "top": null,
            "visibility": null,
            "width": null
          }
        },
        "b4e5836a8b4541b292740484a6675961": {
          "model_module": "@jupyter-widgets/controls",
          "model_name": "DescriptionStyleModel",
          "model_module_version": "1.5.0",
          "state": {
            "_model_module": "@jupyter-widgets/controls",
            "_model_module_version": "1.5.0",
            "_model_name": "DescriptionStyleModel",
            "_view_count": null,
            "_view_module": "@jupyter-widgets/base",
            "_view_module_version": "1.2.0",
            "_view_name": "StyleView",
            "description_width": ""
          }
        },
        "d773556e06784046a882d99397462c5a": {
          "model_module": "@jupyter-widgets/controls",
          "model_name": "HBoxModel",
          "model_module_version": "1.5.0",
          "state": {
            "_dom_classes": [],
            "_model_module": "@jupyter-widgets/controls",
            "_model_module_version": "1.5.0",
            "_model_name": "HBoxModel",
            "_view_count": null,
            "_view_module": "@jupyter-widgets/controls",
            "_view_module_version": "1.5.0",
            "_view_name": "HBoxView",
            "box_style": "",
            "children": [
              "IPY_MODEL_39284626f5cd4cdd97573195a36f7b4e",
              "IPY_MODEL_821adafff1704288a88a76350dcb215c",
              "IPY_MODEL_3f665fcacaf24c46ab064c1d9a2961ea"
            ],
            "layout": "IPY_MODEL_f354409c7a9c455399049d40715a30b9"
          }
        },
        "39284626f5cd4cdd97573195a36f7b4e": {
          "model_module": "@jupyter-widgets/controls",
          "model_name": "HTMLModel",
          "model_module_version": "1.5.0",
          "state": {
            "_dom_classes": [],
            "_model_module": "@jupyter-widgets/controls",
            "_model_module_version": "1.5.0",
            "_model_name": "HTMLModel",
            "_view_count": null,
            "_view_module": "@jupyter-widgets/controls",
            "_view_module_version": "1.5.0",
            "_view_name": "HTMLView",
            "description": "",
            "description_tooltip": null,
            "layout": "IPY_MODEL_87e0a5494df94a8abf8ab545115306b0",
            "placeholder": "​",
            "style": "IPY_MODEL_a9ff22e388d94adf878d036bf1fbf63c",
            "value": "model.safetensors: 100%"
          }
        },
        "821adafff1704288a88a76350dcb215c": {
          "model_module": "@jupyter-widgets/controls",
          "model_name": "FloatProgressModel",
          "model_module_version": "1.5.0",
          "state": {
            "_dom_classes": [],
            "_model_module": "@jupyter-widgets/controls",
            "_model_module_version": "1.5.0",
            "_model_name": "FloatProgressModel",
            "_view_count": null,
            "_view_module": "@jupyter-widgets/controls",
            "_view_module_version": "1.5.0",
            "_view_name": "ProgressView",
            "bar_style": "success",
            "description": "",
            "description_tooltip": null,
            "layout": "IPY_MODEL_90ed986a87554f4382e1cb73bec925b1",
            "max": 1629437147,
            "min": 0,
            "orientation": "horizontal",
            "style": "IPY_MODEL_97e9d1349944422192fbf3a887743879",
            "value": 1629437147
          }
        },
        "3f665fcacaf24c46ab064c1d9a2961ea": {
          "model_module": "@jupyter-widgets/controls",
          "model_name": "HTMLModel",
          "model_module_version": "1.5.0",
          "state": {
            "_dom_classes": [],
            "_model_module": "@jupyter-widgets/controls",
            "_model_module_version": "1.5.0",
            "_model_name": "HTMLModel",
            "_view_count": null,
            "_view_module": "@jupyter-widgets/controls",
            "_view_module_version": "1.5.0",
            "_view_name": "HTMLView",
            "description": "",
            "description_tooltip": null,
            "layout": "IPY_MODEL_7472af361e1f4f7a9debf526684ad4d4",
            "placeholder": "​",
            "style": "IPY_MODEL_d18d20451aad4f58b501278a5984a0e6",
            "value": " 1.63G/1.63G [00:35&lt;00:00, 70.4MB/s]"
          }
        },
        "f354409c7a9c455399049d40715a30b9": {
          "model_module": "@jupyter-widgets/base",
          "model_name": "LayoutModel",
          "model_module_version": "1.2.0",
          "state": {
            "_model_module": "@jupyter-widgets/base",
            "_model_module_version": "1.2.0",
            "_model_name": "LayoutModel",
            "_view_count": null,
            "_view_module": "@jupyter-widgets/base",
            "_view_module_version": "1.2.0",
            "_view_name": "LayoutView",
            "align_content": null,
            "align_items": null,
            "align_self": null,
            "border": null,
            "bottom": null,
            "display": null,
            "flex": null,
            "flex_flow": null,
            "grid_area": null,
            "grid_auto_columns": null,
            "grid_auto_flow": null,
            "grid_auto_rows": null,
            "grid_column": null,
            "grid_gap": null,
            "grid_row": null,
            "grid_template_areas": null,
            "grid_template_columns": null,
            "grid_template_rows": null,
            "height": null,
            "justify_content": null,
            "justify_items": null,
            "left": null,
            "margin": null,
            "max_height": null,
            "max_width": null,
            "min_height": null,
            "min_width": null,
            "object_fit": null,
            "object_position": null,
            "order": null,
            "overflow": null,
            "overflow_x": null,
            "overflow_y": null,
            "padding": null,
            "right": null,
            "top": null,
            "visibility": null,
            "width": null
          }
        },
        "87e0a5494df94a8abf8ab545115306b0": {
          "model_module": "@jupyter-widgets/base",
          "model_name": "LayoutModel",
          "model_module_version": "1.2.0",
          "state": {
            "_model_module": "@jupyter-widgets/base",
            "_model_module_version": "1.2.0",
            "_model_name": "LayoutModel",
            "_view_count": null,
            "_view_module": "@jupyter-widgets/base",
            "_view_module_version": "1.2.0",
            "_view_name": "LayoutView",
            "align_content": null,
            "align_items": null,
            "align_self": null,
            "border": null,
            "bottom": null,
            "display": null,
            "flex": null,
            "flex_flow": null,
            "grid_area": null,
            "grid_auto_columns": null,
            "grid_auto_flow": null,
            "grid_auto_rows": null,
            "grid_column": null,
            "grid_gap": null,
            "grid_row": null,
            "grid_template_areas": null,
            "grid_template_columns": null,
            "grid_template_rows": null,
            "height": null,
            "justify_content": null,
            "justify_items": null,
            "left": null,
            "margin": null,
            "max_height": null,
            "max_width": null,
            "min_height": null,
            "min_width": null,
            "object_fit": null,
            "object_position": null,
            "order": null,
            "overflow": null,
            "overflow_x": null,
            "overflow_y": null,
            "padding": null,
            "right": null,
            "top": null,
            "visibility": null,
            "width": null
          }
        },
        "a9ff22e388d94adf878d036bf1fbf63c": {
          "model_module": "@jupyter-widgets/controls",
          "model_name": "DescriptionStyleModel",
          "model_module_version": "1.5.0",
          "state": {
            "_model_module": "@jupyter-widgets/controls",
            "_model_module_version": "1.5.0",
            "_model_name": "DescriptionStyleModel",
            "_view_count": null,
            "_view_module": "@jupyter-widgets/base",
            "_view_module_version": "1.2.0",
            "_view_name": "StyleView",
            "description_width": ""
          }
        },
        "90ed986a87554f4382e1cb73bec925b1": {
          "model_module": "@jupyter-widgets/base",
          "model_name": "LayoutModel",
          "model_module_version": "1.2.0",
          "state": {
            "_model_module": "@jupyter-widgets/base",
            "_model_module_version": "1.2.0",
            "_model_name": "LayoutModel",
            "_view_count": null,
            "_view_module": "@jupyter-widgets/base",
            "_view_module_version": "1.2.0",
            "_view_name": "LayoutView",
            "align_content": null,
            "align_items": null,
            "align_self": null,
            "border": null,
            "bottom": null,
            "display": null,
            "flex": null,
            "flex_flow": null,
            "grid_area": null,
            "grid_auto_columns": null,
            "grid_auto_flow": null,
            "grid_auto_rows": null,
            "grid_column": null,
            "grid_gap": null,
            "grid_row": null,
            "grid_template_areas": null,
            "grid_template_columns": null,
            "grid_template_rows": null,
            "height": null,
            "justify_content": null,
            "justify_items": null,
            "left": null,
            "margin": null,
            "max_height": null,
            "max_width": null,
            "min_height": null,
            "min_width": null,
            "object_fit": null,
            "object_position": null,
            "order": null,
            "overflow": null,
            "overflow_x": null,
            "overflow_y": null,
            "padding": null,
            "right": null,
            "top": null,
            "visibility": null,
            "width": null
          }
        },
        "97e9d1349944422192fbf3a887743879": {
          "model_module": "@jupyter-widgets/controls",
          "model_name": "ProgressStyleModel",
          "model_module_version": "1.5.0",
          "state": {
            "_model_module": "@jupyter-widgets/controls",
            "_model_module_version": "1.5.0",
            "_model_name": "ProgressStyleModel",
            "_view_count": null,
            "_view_module": "@jupyter-widgets/base",
            "_view_module_version": "1.2.0",
            "_view_name": "StyleView",
            "bar_color": null,
            "description_width": ""
          }
        },
        "7472af361e1f4f7a9debf526684ad4d4": {
          "model_module": "@jupyter-widgets/base",
          "model_name": "LayoutModel",
          "model_module_version": "1.2.0",
          "state": {
            "_model_module": "@jupyter-widgets/base",
            "_model_module_version": "1.2.0",
            "_model_name": "LayoutModel",
            "_view_count": null,
            "_view_module": "@jupyter-widgets/base",
            "_view_module_version": "1.2.0",
            "_view_name": "LayoutView",
            "align_content": null,
            "align_items": null,
            "align_self": null,
            "border": null,
            "bottom": null,
            "display": null,
            "flex": null,
            "flex_flow": null,
            "grid_area": null,
            "grid_auto_columns": null,
            "grid_auto_flow": null,
            "grid_auto_rows": null,
            "grid_column": null,
            "grid_gap": null,
            "grid_row": null,
            "grid_template_areas": null,
            "grid_template_columns": null,
            "grid_template_rows": null,
            "height": null,
            "justify_content": null,
            "justify_items": null,
            "left": null,
            "margin": null,
            "max_height": null,
            "max_width": null,
            "min_height": null,
            "min_width": null,
            "object_fit": null,
            "object_position": null,
            "order": null,
            "overflow": null,
            "overflow_x": null,
            "overflow_y": null,
            "padding": null,
            "right": null,
            "top": null,
            "visibility": null,
            "width": null
          }
        },
        "d18d20451aad4f58b501278a5984a0e6": {
          "model_module": "@jupyter-widgets/controls",
          "model_name": "DescriptionStyleModel",
          "model_module_version": "1.5.0",
          "state": {
            "_model_module": "@jupyter-widgets/controls",
            "_model_module_version": "1.5.0",
            "_model_name": "DescriptionStyleModel",
            "_view_count": null,
            "_view_module": "@jupyter-widgets/base",
            "_view_module_version": "1.2.0",
            "_view_name": "StyleView",
            "description_width": ""
          }
        },
        "360c645f25e04c55806d1789a706f2ab": {
          "model_module": "@jupyter-widgets/controls",
          "model_name": "HBoxModel",
          "model_module_version": "1.5.0",
          "state": {
            "_dom_classes": [],
            "_model_module": "@jupyter-widgets/controls",
            "_model_module_version": "1.5.0",
            "_model_name": "HBoxModel",
            "_view_count": null,
            "_view_module": "@jupyter-widgets/controls",
            "_view_module_version": "1.5.0",
            "_view_name": "HBoxView",
            "box_style": "",
            "children": [
              "IPY_MODEL_5d89c9c77c3a4bbf99d1930141e442a7",
              "IPY_MODEL_4f2bf7be98f340c1a116896e47b64446",
              "IPY_MODEL_b0fc3a6b45644710b107258e2819a772"
            ],
            "layout": "IPY_MODEL_4eb69da95e4f49bca42422b793ca59ad"
          }
        },
        "5d89c9c77c3a4bbf99d1930141e442a7": {
          "model_module": "@jupyter-widgets/controls",
          "model_name": "HTMLModel",
          "model_module_version": "1.5.0",
          "state": {
            "_dom_classes": [],
            "_model_module": "@jupyter-widgets/controls",
            "_model_module_version": "1.5.0",
            "_model_name": "HTMLModel",
            "_view_count": null,
            "_view_module": "@jupyter-widgets/controls",
            "_view_module_version": "1.5.0",
            "_view_name": "HTMLView",
            "description": "",
            "description_tooltip": null,
            "layout": "IPY_MODEL_1a0b85a00256412382393afbc74cea4d",
            "placeholder": "​",
            "style": "IPY_MODEL_c8f69b5cb2174e0ba11e21977c37fb75",
            "value": "tokenizer_config.json: 100%"
          }
        },
        "4f2bf7be98f340c1a116896e47b64446": {
          "model_module": "@jupyter-widgets/controls",
          "model_name": "FloatProgressModel",
          "model_module_version": "1.5.0",
          "state": {
            "_dom_classes": [],
            "_model_module": "@jupyter-widgets/controls",
            "_model_module_version": "1.5.0",
            "_model_name": "FloatProgressModel",
            "_view_count": null,
            "_view_module": "@jupyter-widgets/controls",
            "_view_module_version": "1.5.0",
            "_view_name": "ProgressView",
            "bar_style": "success",
            "description": "",
            "description_tooltip": null,
            "layout": "IPY_MODEL_ec7b2e4fa6af48cdbb2890b024bfb05f",
            "max": 26,
            "min": 0,
            "orientation": "horizontal",
            "style": "IPY_MODEL_0c97cf4176ae4f0f980913681fc439aa",
            "value": 26
          }
        },
        "b0fc3a6b45644710b107258e2819a772": {
          "model_module": "@jupyter-widgets/controls",
          "model_name": "HTMLModel",
          "model_module_version": "1.5.0",
          "state": {
            "_dom_classes": [],
            "_model_module": "@jupyter-widgets/controls",
            "_model_module_version": "1.5.0",
            "_model_name": "HTMLModel",
            "_view_count": null,
            "_view_module": "@jupyter-widgets/controls",
            "_view_module_version": "1.5.0",
            "_view_name": "HTMLView",
            "description": "",
            "description_tooltip": null,
            "layout": "IPY_MODEL_10e25cd04e104b18b194a202e79a34ac",
            "placeholder": "​",
            "style": "IPY_MODEL_44e070e14a66440ca19009bbe382415c",
            "value": " 26.0/26.0 [00:00&lt;00:00, 1.42kB/s]"
          }
        },
        "4eb69da95e4f49bca42422b793ca59ad": {
          "model_module": "@jupyter-widgets/base",
          "model_name": "LayoutModel",
          "model_module_version": "1.2.0",
          "state": {
            "_model_module": "@jupyter-widgets/base",
            "_model_module_version": "1.2.0",
            "_model_name": "LayoutModel",
            "_view_count": null,
            "_view_module": "@jupyter-widgets/base",
            "_view_module_version": "1.2.0",
            "_view_name": "LayoutView",
            "align_content": null,
            "align_items": null,
            "align_self": null,
            "border": null,
            "bottom": null,
            "display": null,
            "flex": null,
            "flex_flow": null,
            "grid_area": null,
            "grid_auto_columns": null,
            "grid_auto_flow": null,
            "grid_auto_rows": null,
            "grid_column": null,
            "grid_gap": null,
            "grid_row": null,
            "grid_template_areas": null,
            "grid_template_columns": null,
            "grid_template_rows": null,
            "height": null,
            "justify_content": null,
            "justify_items": null,
            "left": null,
            "margin": null,
            "max_height": null,
            "max_width": null,
            "min_height": null,
            "min_width": null,
            "object_fit": null,
            "object_position": null,
            "order": null,
            "overflow": null,
            "overflow_x": null,
            "overflow_y": null,
            "padding": null,
            "right": null,
            "top": null,
            "visibility": null,
            "width": null
          }
        },
        "1a0b85a00256412382393afbc74cea4d": {
          "model_module": "@jupyter-widgets/base",
          "model_name": "LayoutModel",
          "model_module_version": "1.2.0",
          "state": {
            "_model_module": "@jupyter-widgets/base",
            "_model_module_version": "1.2.0",
            "_model_name": "LayoutModel",
            "_view_count": null,
            "_view_module": "@jupyter-widgets/base",
            "_view_module_version": "1.2.0",
            "_view_name": "LayoutView",
            "align_content": null,
            "align_items": null,
            "align_self": null,
            "border": null,
            "bottom": null,
            "display": null,
            "flex": null,
            "flex_flow": null,
            "grid_area": null,
            "grid_auto_columns": null,
            "grid_auto_flow": null,
            "grid_auto_rows": null,
            "grid_column": null,
            "grid_gap": null,
            "grid_row": null,
            "grid_template_areas": null,
            "grid_template_columns": null,
            "grid_template_rows": null,
            "height": null,
            "justify_content": null,
            "justify_items": null,
            "left": null,
            "margin": null,
            "max_height": null,
            "max_width": null,
            "min_height": null,
            "min_width": null,
            "object_fit": null,
            "object_position": null,
            "order": null,
            "overflow": null,
            "overflow_x": null,
            "overflow_y": null,
            "padding": null,
            "right": null,
            "top": null,
            "visibility": null,
            "width": null
          }
        },
        "c8f69b5cb2174e0ba11e21977c37fb75": {
          "model_module": "@jupyter-widgets/controls",
          "model_name": "DescriptionStyleModel",
          "model_module_version": "1.5.0",
          "state": {
            "_model_module": "@jupyter-widgets/controls",
            "_model_module_version": "1.5.0",
            "_model_name": "DescriptionStyleModel",
            "_view_count": null,
            "_view_module": "@jupyter-widgets/base",
            "_view_module_version": "1.2.0",
            "_view_name": "StyleView",
            "description_width": ""
          }
        },
        "ec7b2e4fa6af48cdbb2890b024bfb05f": {
          "model_module": "@jupyter-widgets/base",
          "model_name": "LayoutModel",
          "model_module_version": "1.2.0",
          "state": {
            "_model_module": "@jupyter-widgets/base",
            "_model_module_version": "1.2.0",
            "_model_name": "LayoutModel",
            "_view_count": null,
            "_view_module": "@jupyter-widgets/base",
            "_view_module_version": "1.2.0",
            "_view_name": "LayoutView",
            "align_content": null,
            "align_items": null,
            "align_self": null,
            "border": null,
            "bottom": null,
            "display": null,
            "flex": null,
            "flex_flow": null,
            "grid_area": null,
            "grid_auto_columns": null,
            "grid_auto_flow": null,
            "grid_auto_rows": null,
            "grid_column": null,
            "grid_gap": null,
            "grid_row": null,
            "grid_template_areas": null,
            "grid_template_columns": null,
            "grid_template_rows": null,
            "height": null,
            "justify_content": null,
            "justify_items": null,
            "left": null,
            "margin": null,
            "max_height": null,
            "max_width": null,
            "min_height": null,
            "min_width": null,
            "object_fit": null,
            "object_position": null,
            "order": null,
            "overflow": null,
            "overflow_x": null,
            "overflow_y": null,
            "padding": null,
            "right": null,
            "top": null,
            "visibility": null,
            "width": null
          }
        },
        "0c97cf4176ae4f0f980913681fc439aa": {
          "model_module": "@jupyter-widgets/controls",
          "model_name": "ProgressStyleModel",
          "model_module_version": "1.5.0",
          "state": {
            "_model_module": "@jupyter-widgets/controls",
            "_model_module_version": "1.5.0",
            "_model_name": "ProgressStyleModel",
            "_view_count": null,
            "_view_module": "@jupyter-widgets/base",
            "_view_module_version": "1.2.0",
            "_view_name": "StyleView",
            "bar_color": null,
            "description_width": ""
          }
        },
        "10e25cd04e104b18b194a202e79a34ac": {
          "model_module": "@jupyter-widgets/base",
          "model_name": "LayoutModel",
          "model_module_version": "1.2.0",
          "state": {
            "_model_module": "@jupyter-widgets/base",
            "_model_module_version": "1.2.0",
            "_model_name": "LayoutModel",
            "_view_count": null,
            "_view_module": "@jupyter-widgets/base",
            "_view_module_version": "1.2.0",
            "_view_name": "LayoutView",
            "align_content": null,
            "align_items": null,
            "align_self": null,
            "border": null,
            "bottom": null,
            "display": null,
            "flex": null,
            "flex_flow": null,
            "grid_area": null,
            "grid_auto_columns": null,
            "grid_auto_flow": null,
            "grid_auto_rows": null,
            "grid_column": null,
            "grid_gap": null,
            "grid_row": null,
            "grid_template_areas": null,
            "grid_template_columns": null,
            "grid_template_rows": null,
            "height": null,
            "justify_content": null,
            "justify_items": null,
            "left": null,
            "margin": null,
            "max_height": null,
            "max_width": null,
            "min_height": null,
            "min_width": null,
            "object_fit": null,
            "object_position": null,
            "order": null,
            "overflow": null,
            "overflow_x": null,
            "overflow_y": null,
            "padding": null,
            "right": null,
            "top": null,
            "visibility": null,
            "width": null
          }
        },
        "44e070e14a66440ca19009bbe382415c": {
          "model_module": "@jupyter-widgets/controls",
          "model_name": "DescriptionStyleModel",
          "model_module_version": "1.5.0",
          "state": {
            "_model_module": "@jupyter-widgets/controls",
            "_model_module_version": "1.5.0",
            "_model_name": "DescriptionStyleModel",
            "_view_count": null,
            "_view_module": "@jupyter-widgets/base",
            "_view_module_version": "1.2.0",
            "_view_name": "StyleView",
            "description_width": ""
          }
        },
        "2f7b2777962d4b93b0b58a788539b6ac": {
          "model_module": "@jupyter-widgets/controls",
          "model_name": "HBoxModel",
          "model_module_version": "1.5.0",
          "state": {
            "_dom_classes": [],
            "_model_module": "@jupyter-widgets/controls",
            "_model_module_version": "1.5.0",
            "_model_name": "HBoxModel",
            "_view_count": null,
            "_view_module": "@jupyter-widgets/controls",
            "_view_module_version": "1.5.0",
            "_view_name": "HBoxView",
            "box_style": "",
            "children": [
              "IPY_MODEL_9221833b8f7347fa9ba879391ae38641",
              "IPY_MODEL_1d59de1d395648958de5968e23546c76",
              "IPY_MODEL_df15eb7311c244f2a2ad2d95b0e5a1d2"
            ],
            "layout": "IPY_MODEL_caea898ca0364e94a1da48c291ba155a"
          }
        },
        "9221833b8f7347fa9ba879391ae38641": {
          "model_module": "@jupyter-widgets/controls",
          "model_name": "HTMLModel",
          "model_module_version": "1.5.0",
          "state": {
            "_dom_classes": [],
            "_model_module": "@jupyter-widgets/controls",
            "_model_module_version": "1.5.0",
            "_model_name": "HTMLModel",
            "_view_count": null,
            "_view_module": "@jupyter-widgets/controls",
            "_view_module_version": "1.5.0",
            "_view_name": "HTMLView",
            "description": "",
            "description_tooltip": null,
            "layout": "IPY_MODEL_fb39df0f4d1644e6ba7819a383f5ecf8",
            "placeholder": "​",
            "style": "IPY_MODEL_598712160b964a219ab76b4aa7a2ffb9",
            "value": "vocab.json: "
          }
        },
        "1d59de1d395648958de5968e23546c76": {
          "model_module": "@jupyter-widgets/controls",
          "model_name": "FloatProgressModel",
          "model_module_version": "1.5.0",
          "state": {
            "_dom_classes": [],
            "_model_module": "@jupyter-widgets/controls",
            "_model_module_version": "1.5.0",
            "_model_name": "FloatProgressModel",
            "_view_count": null,
            "_view_module": "@jupyter-widgets/controls",
            "_view_module_version": "1.5.0",
            "_view_name": "ProgressView",
            "bar_style": "success",
            "description": "",
            "description_tooltip": null,
            "layout": "IPY_MODEL_99afc35eb60e4b8b93868f6d508d5ad5",
            "max": 1,
            "min": 0,
            "orientation": "horizontal",
            "style": "IPY_MODEL_c4370ad53df84fde9e2f0a122ee2f202",
            "value": 1
          }
        },
        "df15eb7311c244f2a2ad2d95b0e5a1d2": {
          "model_module": "@jupyter-widgets/controls",
          "model_name": "HTMLModel",
          "model_module_version": "1.5.0",
          "state": {
            "_dom_classes": [],
            "_model_module": "@jupyter-widgets/controls",
            "_model_module_version": "1.5.0",
            "_model_name": "HTMLModel",
            "_view_count": null,
            "_view_module": "@jupyter-widgets/controls",
            "_view_module_version": "1.5.0",
            "_view_name": "HTMLView",
            "description": "",
            "description_tooltip": null,
            "layout": "IPY_MODEL_15a320d2a1e848fa9c9b5b3a8040fc19",
            "placeholder": "​",
            "style": "IPY_MODEL_81f9e8ca990a437cae6135c8f2a97dc7",
            "value": " 899k/? [00:00&lt;00:00, 838kB/s]"
          }
        },
        "caea898ca0364e94a1da48c291ba155a": {
          "model_module": "@jupyter-widgets/base",
          "model_name": "LayoutModel",
          "model_module_version": "1.2.0",
          "state": {
            "_model_module": "@jupyter-widgets/base",
            "_model_module_version": "1.2.0",
            "_model_name": "LayoutModel",
            "_view_count": null,
            "_view_module": "@jupyter-widgets/base",
            "_view_module_version": "1.2.0",
            "_view_name": "LayoutView",
            "align_content": null,
            "align_items": null,
            "align_self": null,
            "border": null,
            "bottom": null,
            "display": null,
            "flex": null,
            "flex_flow": null,
            "grid_area": null,
            "grid_auto_columns": null,
            "grid_auto_flow": null,
            "grid_auto_rows": null,
            "grid_column": null,
            "grid_gap": null,
            "grid_row": null,
            "grid_template_areas": null,
            "grid_template_columns": null,
            "grid_template_rows": null,
            "height": null,
            "justify_content": null,
            "justify_items": null,
            "left": null,
            "margin": null,
            "max_height": null,
            "max_width": null,
            "min_height": null,
            "min_width": null,
            "object_fit": null,
            "object_position": null,
            "order": null,
            "overflow": null,
            "overflow_x": null,
            "overflow_y": null,
            "padding": null,
            "right": null,
            "top": null,
            "visibility": null,
            "width": null
          }
        },
        "fb39df0f4d1644e6ba7819a383f5ecf8": {
          "model_module": "@jupyter-widgets/base",
          "model_name": "LayoutModel",
          "model_module_version": "1.2.0",
          "state": {
            "_model_module": "@jupyter-widgets/base",
            "_model_module_version": "1.2.0",
            "_model_name": "LayoutModel",
            "_view_count": null,
            "_view_module": "@jupyter-widgets/base",
            "_view_module_version": "1.2.0",
            "_view_name": "LayoutView",
            "align_content": null,
            "align_items": null,
            "align_self": null,
            "border": null,
            "bottom": null,
            "display": null,
            "flex": null,
            "flex_flow": null,
            "grid_area": null,
            "grid_auto_columns": null,
            "grid_auto_flow": null,
            "grid_auto_rows": null,
            "grid_column": null,
            "grid_gap": null,
            "grid_row": null,
            "grid_template_areas": null,
            "grid_template_columns": null,
            "grid_template_rows": null,
            "height": null,
            "justify_content": null,
            "justify_items": null,
            "left": null,
            "margin": null,
            "max_height": null,
            "max_width": null,
            "min_height": null,
            "min_width": null,
            "object_fit": null,
            "object_position": null,
            "order": null,
            "overflow": null,
            "overflow_x": null,
            "overflow_y": null,
            "padding": null,
            "right": null,
            "top": null,
            "visibility": null,
            "width": null
          }
        },
        "598712160b964a219ab76b4aa7a2ffb9": {
          "model_module": "@jupyter-widgets/controls",
          "model_name": "DescriptionStyleModel",
          "model_module_version": "1.5.0",
          "state": {
            "_model_module": "@jupyter-widgets/controls",
            "_model_module_version": "1.5.0",
            "_model_name": "DescriptionStyleModel",
            "_view_count": null,
            "_view_module": "@jupyter-widgets/base",
            "_view_module_version": "1.2.0",
            "_view_name": "StyleView",
            "description_width": ""
          }
        },
        "99afc35eb60e4b8b93868f6d508d5ad5": {
          "model_module": "@jupyter-widgets/base",
          "model_name": "LayoutModel",
          "model_module_version": "1.2.0",
          "state": {
            "_model_module": "@jupyter-widgets/base",
            "_model_module_version": "1.2.0",
            "_model_name": "LayoutModel",
            "_view_count": null,
            "_view_module": "@jupyter-widgets/base",
            "_view_module_version": "1.2.0",
            "_view_name": "LayoutView",
            "align_content": null,
            "align_items": null,
            "align_self": null,
            "border": null,
            "bottom": null,
            "display": null,
            "flex": null,
            "flex_flow": null,
            "grid_area": null,
            "grid_auto_columns": null,
            "grid_auto_flow": null,
            "grid_auto_rows": null,
            "grid_column": null,
            "grid_gap": null,
            "grid_row": null,
            "grid_template_areas": null,
            "grid_template_columns": null,
            "grid_template_rows": null,
            "height": null,
            "justify_content": null,
            "justify_items": null,
            "left": null,
            "margin": null,
            "max_height": null,
            "max_width": null,
            "min_height": null,
            "min_width": null,
            "object_fit": null,
            "object_position": null,
            "order": null,
            "overflow": null,
            "overflow_x": null,
            "overflow_y": null,
            "padding": null,
            "right": null,
            "top": null,
            "visibility": null,
            "width": "20px"
          }
        },
        "c4370ad53df84fde9e2f0a122ee2f202": {
          "model_module": "@jupyter-widgets/controls",
          "model_name": "ProgressStyleModel",
          "model_module_version": "1.5.0",
          "state": {
            "_model_module": "@jupyter-widgets/controls",
            "_model_module_version": "1.5.0",
            "_model_name": "ProgressStyleModel",
            "_view_count": null,
            "_view_module": "@jupyter-widgets/base",
            "_view_module_version": "1.2.0",
            "_view_name": "StyleView",
            "bar_color": null,
            "description_width": ""
          }
        },
        "15a320d2a1e848fa9c9b5b3a8040fc19": {
          "model_module": "@jupyter-widgets/base",
          "model_name": "LayoutModel",
          "model_module_version": "1.2.0",
          "state": {
            "_model_module": "@jupyter-widgets/base",
            "_model_module_version": "1.2.0",
            "_model_name": "LayoutModel",
            "_view_count": null,
            "_view_module": "@jupyter-widgets/base",
            "_view_module_version": "1.2.0",
            "_view_name": "LayoutView",
            "align_content": null,
            "align_items": null,
            "align_self": null,
            "border": null,
            "bottom": null,
            "display": null,
            "flex": null,
            "flex_flow": null,
            "grid_area": null,
            "grid_auto_columns": null,
            "grid_auto_flow": null,
            "grid_auto_rows": null,
            "grid_column": null,
            "grid_gap": null,
            "grid_row": null,
            "grid_template_areas": null,
            "grid_template_columns": null,
            "grid_template_rows": null,
            "height": null,
            "justify_content": null,
            "justify_items": null,
            "left": null,
            "margin": null,
            "max_height": null,
            "max_width": null,
            "min_height": null,
            "min_width": null,
            "object_fit": null,
            "object_position": null,
            "order": null,
            "overflow": null,
            "overflow_x": null,
            "overflow_y": null,
            "padding": null,
            "right": null,
            "top": null,
            "visibility": null,
            "width": null
          }
        },
        "81f9e8ca990a437cae6135c8f2a97dc7": {
          "model_module": "@jupyter-widgets/controls",
          "model_name": "DescriptionStyleModel",
          "model_module_version": "1.5.0",
          "state": {
            "_model_module": "@jupyter-widgets/controls",
            "_model_module_version": "1.5.0",
            "_model_name": "DescriptionStyleModel",
            "_view_count": null,
            "_view_module": "@jupyter-widgets/base",
            "_view_module_version": "1.2.0",
            "_view_name": "StyleView",
            "description_width": ""
          }
        },
        "5c48b8d543264702b849b2154e07db72": {
          "model_module": "@jupyter-widgets/controls",
          "model_name": "HBoxModel",
          "model_module_version": "1.5.0",
          "state": {
            "_dom_classes": [],
            "_model_module": "@jupyter-widgets/controls",
            "_model_module_version": "1.5.0",
            "_model_name": "HBoxModel",
            "_view_count": null,
            "_view_module": "@jupyter-widgets/controls",
            "_view_module_version": "1.5.0",
            "_view_name": "HBoxView",
            "box_style": "",
            "children": [
              "IPY_MODEL_d3623f940067448e8147f3ec7cdcb35f",
              "IPY_MODEL_7ec6dfb9fc724850af451f37e99a345e",
              "IPY_MODEL_e81ae92d291c46998bb633bbcc5fee13"
            ],
            "layout": "IPY_MODEL_40fb76d23b794870bdcd11146f71f1a1"
          }
        },
        "d3623f940067448e8147f3ec7cdcb35f": {
          "model_module": "@jupyter-widgets/controls",
          "model_name": "HTMLModel",
          "model_module_version": "1.5.0",
          "state": {
            "_dom_classes": [],
            "_model_module": "@jupyter-widgets/controls",
            "_model_module_version": "1.5.0",
            "_model_name": "HTMLModel",
            "_view_count": null,
            "_view_module": "@jupyter-widgets/controls",
            "_view_module_version": "1.5.0",
            "_view_name": "HTMLView",
            "description": "",
            "description_tooltip": null,
            "layout": "IPY_MODEL_e2e60848c57245f38178f8299df4bbdc",
            "placeholder": "​",
            "style": "IPY_MODEL_77a28fb029cd41d9982471944aca8d5e",
            "value": "merges.txt: "
          }
        },
        "7ec6dfb9fc724850af451f37e99a345e": {
          "model_module": "@jupyter-widgets/controls",
          "model_name": "FloatProgressModel",
          "model_module_version": "1.5.0",
          "state": {
            "_dom_classes": [],
            "_model_module": "@jupyter-widgets/controls",
            "_model_module_version": "1.5.0",
            "_model_name": "FloatProgressModel",
            "_view_count": null,
            "_view_module": "@jupyter-widgets/controls",
            "_view_module_version": "1.5.0",
            "_view_name": "ProgressView",
            "bar_style": "success",
            "description": "",
            "description_tooltip": null,
            "layout": "IPY_MODEL_d08fb760d9914af69e048c16e90a5859",
            "max": 1,
            "min": 0,
            "orientation": "horizontal",
            "style": "IPY_MODEL_78ecb11323864764820a86da97861fd3",
            "value": 1
          }
        },
        "e81ae92d291c46998bb633bbcc5fee13": {
          "model_module": "@jupyter-widgets/controls",
          "model_name": "HTMLModel",
          "model_module_version": "1.5.0",
          "state": {
            "_dom_classes": [],
            "_model_module": "@jupyter-widgets/controls",
            "_model_module_version": "1.5.0",
            "_model_name": "HTMLModel",
            "_view_count": null,
            "_view_module": "@jupyter-widgets/controls",
            "_view_module_version": "1.5.0",
            "_view_name": "HTMLView",
            "description": "",
            "description_tooltip": null,
            "layout": "IPY_MODEL_dafc141d1a9e4f78b03affd718d1f34a",
            "placeholder": "​",
            "style": "IPY_MODEL_14d26aab6d3f4967a0c7106a3b7a0034",
            "value": " 456k/? [00:00&lt;00:00, 9.07MB/s]"
          }
        },
        "40fb76d23b794870bdcd11146f71f1a1": {
          "model_module": "@jupyter-widgets/base",
          "model_name": "LayoutModel",
          "model_module_version": "1.2.0",
          "state": {
            "_model_module": "@jupyter-widgets/base",
            "_model_module_version": "1.2.0",
            "_model_name": "LayoutModel",
            "_view_count": null,
            "_view_module": "@jupyter-widgets/base",
            "_view_module_version": "1.2.0",
            "_view_name": "LayoutView",
            "align_content": null,
            "align_items": null,
            "align_self": null,
            "border": null,
            "bottom": null,
            "display": null,
            "flex": null,
            "flex_flow": null,
            "grid_area": null,
            "grid_auto_columns": null,
            "grid_auto_flow": null,
            "grid_auto_rows": null,
            "grid_column": null,
            "grid_gap": null,
            "grid_row": null,
            "grid_template_areas": null,
            "grid_template_columns": null,
            "grid_template_rows": null,
            "height": null,
            "justify_content": null,
            "justify_items": null,
            "left": null,
            "margin": null,
            "max_height": null,
            "max_width": null,
            "min_height": null,
            "min_width": null,
            "object_fit": null,
            "object_position": null,
            "order": null,
            "overflow": null,
            "overflow_x": null,
            "overflow_y": null,
            "padding": null,
            "right": null,
            "top": null,
            "visibility": null,
            "width": null
          }
        },
        "e2e60848c57245f38178f8299df4bbdc": {
          "model_module": "@jupyter-widgets/base",
          "model_name": "LayoutModel",
          "model_module_version": "1.2.0",
          "state": {
            "_model_module": "@jupyter-widgets/base",
            "_model_module_version": "1.2.0",
            "_model_name": "LayoutModel",
            "_view_count": null,
            "_view_module": "@jupyter-widgets/base",
            "_view_module_version": "1.2.0",
            "_view_name": "LayoutView",
            "align_content": null,
            "align_items": null,
            "align_self": null,
            "border": null,
            "bottom": null,
            "display": null,
            "flex": null,
            "flex_flow": null,
            "grid_area": null,
            "grid_auto_columns": null,
            "grid_auto_flow": null,
            "grid_auto_rows": null,
            "grid_column": null,
            "grid_gap": null,
            "grid_row": null,
            "grid_template_areas": null,
            "grid_template_columns": null,
            "grid_template_rows": null,
            "height": null,
            "justify_content": null,
            "justify_items": null,
            "left": null,
            "margin": null,
            "max_height": null,
            "max_width": null,
            "min_height": null,
            "min_width": null,
            "object_fit": null,
            "object_position": null,
            "order": null,
            "overflow": null,
            "overflow_x": null,
            "overflow_y": null,
            "padding": null,
            "right": null,
            "top": null,
            "visibility": null,
            "width": null
          }
        },
        "77a28fb029cd41d9982471944aca8d5e": {
          "model_module": "@jupyter-widgets/controls",
          "model_name": "DescriptionStyleModel",
          "model_module_version": "1.5.0",
          "state": {
            "_model_module": "@jupyter-widgets/controls",
            "_model_module_version": "1.5.0",
            "_model_name": "DescriptionStyleModel",
            "_view_count": null,
            "_view_module": "@jupyter-widgets/base",
            "_view_module_version": "1.2.0",
            "_view_name": "StyleView",
            "description_width": ""
          }
        },
        "d08fb760d9914af69e048c16e90a5859": {
          "model_module": "@jupyter-widgets/base",
          "model_name": "LayoutModel",
          "model_module_version": "1.2.0",
          "state": {
            "_model_module": "@jupyter-widgets/base",
            "_model_module_version": "1.2.0",
            "_model_name": "LayoutModel",
            "_view_count": null,
            "_view_module": "@jupyter-widgets/base",
            "_view_module_version": "1.2.0",
            "_view_name": "LayoutView",
            "align_content": null,
            "align_items": null,
            "align_self": null,
            "border": null,
            "bottom": null,
            "display": null,
            "flex": null,
            "flex_flow": null,
            "grid_area": null,
            "grid_auto_columns": null,
            "grid_auto_flow": null,
            "grid_auto_rows": null,
            "grid_column": null,
            "grid_gap": null,
            "grid_row": null,
            "grid_template_areas": null,
            "grid_template_columns": null,
            "grid_template_rows": null,
            "height": null,
            "justify_content": null,
            "justify_items": null,
            "left": null,
            "margin": null,
            "max_height": null,
            "max_width": null,
            "min_height": null,
            "min_width": null,
            "object_fit": null,
            "object_position": null,
            "order": null,
            "overflow": null,
            "overflow_x": null,
            "overflow_y": null,
            "padding": null,
            "right": null,
            "top": null,
            "visibility": null,
            "width": "20px"
          }
        },
        "78ecb11323864764820a86da97861fd3": {
          "model_module": "@jupyter-widgets/controls",
          "model_name": "ProgressStyleModel",
          "model_module_version": "1.5.0",
          "state": {
            "_model_module": "@jupyter-widgets/controls",
            "_model_module_version": "1.5.0",
            "_model_name": "ProgressStyleModel",
            "_view_count": null,
            "_view_module": "@jupyter-widgets/base",
            "_view_module_version": "1.2.0",
            "_view_name": "StyleView",
            "bar_color": null,
            "description_width": ""
          }
        },
        "dafc141d1a9e4f78b03affd718d1f34a": {
          "model_module": "@jupyter-widgets/base",
          "model_name": "LayoutModel",
          "model_module_version": "1.2.0",
          "state": {
            "_model_module": "@jupyter-widgets/base",
            "_model_module_version": "1.2.0",
            "_model_name": "LayoutModel",
            "_view_count": null,
            "_view_module": "@jupyter-widgets/base",
            "_view_module_version": "1.2.0",
            "_view_name": "LayoutView",
            "align_content": null,
            "align_items": null,
            "align_self": null,
            "border": null,
            "bottom": null,
            "display": null,
            "flex": null,
            "flex_flow": null,
            "grid_area": null,
            "grid_auto_columns": null,
            "grid_auto_flow": null,
            "grid_auto_rows": null,
            "grid_column": null,
            "grid_gap": null,
            "grid_row": null,
            "grid_template_areas": null,
            "grid_template_columns": null,
            "grid_template_rows": null,
            "height": null,
            "justify_content": null,
            "justify_items": null,
            "left": null,
            "margin": null,
            "max_height": null,
            "max_width": null,
            "min_height": null,
            "min_width": null,
            "object_fit": null,
            "object_position": null,
            "order": null,
            "overflow": null,
            "overflow_x": null,
            "overflow_y": null,
            "padding": null,
            "right": null,
            "top": null,
            "visibility": null,
            "width": null
          }
        },
        "14d26aab6d3f4967a0c7106a3b7a0034": {
          "model_module": "@jupyter-widgets/controls",
          "model_name": "DescriptionStyleModel",
          "model_module_version": "1.5.0",
          "state": {
            "_model_module": "@jupyter-widgets/controls",
            "_model_module_version": "1.5.0",
            "_model_name": "DescriptionStyleModel",
            "_view_count": null,
            "_view_module": "@jupyter-widgets/base",
            "_view_module_version": "1.2.0",
            "_view_name": "StyleView",
            "description_width": ""
          }
        },
        "c4b31489e4a54e27b0ed8656b8697f86": {
          "model_module": "@jupyter-widgets/controls",
          "model_name": "HBoxModel",
          "model_module_version": "1.5.0",
          "state": {
            "_dom_classes": [],
            "_model_module": "@jupyter-widgets/controls",
            "_model_module_version": "1.5.0",
            "_model_name": "HBoxModel",
            "_view_count": null,
            "_view_module": "@jupyter-widgets/controls",
            "_view_module_version": "1.5.0",
            "_view_name": "HBoxView",
            "box_style": "",
            "children": [
              "IPY_MODEL_05c214deb6b3426e8bbaa856f5d726b1",
              "IPY_MODEL_c31f22e2a80e4d13b3d8f2cd81183704",
              "IPY_MODEL_eb217b6199aa4fc882781c7b10c0e30b"
            ],
            "layout": "IPY_MODEL_fd8013daee4747509d82b1a2d1aedd06"
          }
        },
        "05c214deb6b3426e8bbaa856f5d726b1": {
          "model_module": "@jupyter-widgets/controls",
          "model_name": "HTMLModel",
          "model_module_version": "1.5.0",
          "state": {
            "_dom_classes": [],
            "_model_module": "@jupyter-widgets/controls",
            "_model_module_version": "1.5.0",
            "_model_name": "HTMLModel",
            "_view_count": null,
            "_view_module": "@jupyter-widgets/controls",
            "_view_module_version": "1.5.0",
            "_view_name": "HTMLView",
            "description": "",
            "description_tooltip": null,
            "layout": "IPY_MODEL_f2cde6052c424610bf47a192998b2dfe",
            "placeholder": "​",
            "style": "IPY_MODEL_46ba84918ca64fa1a0514ff991320217",
            "value": "tokenizer.json: "
          }
        },
        "c31f22e2a80e4d13b3d8f2cd81183704": {
          "model_module": "@jupyter-widgets/controls",
          "model_name": "FloatProgressModel",
          "model_module_version": "1.5.0",
          "state": {
            "_dom_classes": [],
            "_model_module": "@jupyter-widgets/controls",
            "_model_module_version": "1.5.0",
            "_model_name": "FloatProgressModel",
            "_view_count": null,
            "_view_module": "@jupyter-widgets/controls",
            "_view_module_version": "1.5.0",
            "_view_name": "ProgressView",
            "bar_style": "success",
            "description": "",
            "description_tooltip": null,
            "layout": "IPY_MODEL_d042ea87cb8b4c16a99ad15f93832691",
            "max": 1,
            "min": 0,
            "orientation": "horizontal",
            "style": "IPY_MODEL_6e16c18e654441b8a688892fe7fa869b",
            "value": 1
          }
        },
        "eb217b6199aa4fc882781c7b10c0e30b": {
          "model_module": "@jupyter-widgets/controls",
          "model_name": "HTMLModel",
          "model_module_version": "1.5.0",
          "state": {
            "_dom_classes": [],
            "_model_module": "@jupyter-widgets/controls",
            "_model_module_version": "1.5.0",
            "_model_name": "HTMLModel",
            "_view_count": null,
            "_view_module": "@jupyter-widgets/controls",
            "_view_module_version": "1.5.0",
            "_view_name": "HTMLView",
            "description": "",
            "description_tooltip": null,
            "layout": "IPY_MODEL_ed0b6096b48b4b1783bed3716fe8ab10",
            "placeholder": "​",
            "style": "IPY_MODEL_80a7ca9202ba4f78af1b627686db0b91",
            "value": " 1.36M/? [00:00&lt;00:00, 66.2kB/s]"
          }
        },
        "fd8013daee4747509d82b1a2d1aedd06": {
          "model_module": "@jupyter-widgets/base",
          "model_name": "LayoutModel",
          "model_module_version": "1.2.0",
          "state": {
            "_model_module": "@jupyter-widgets/base",
            "_model_module_version": "1.2.0",
            "_model_name": "LayoutModel",
            "_view_count": null,
            "_view_module": "@jupyter-widgets/base",
            "_view_module_version": "1.2.0",
            "_view_name": "LayoutView",
            "align_content": null,
            "align_items": null,
            "align_self": null,
            "border": null,
            "bottom": null,
            "display": null,
            "flex": null,
            "flex_flow": null,
            "grid_area": null,
            "grid_auto_columns": null,
            "grid_auto_flow": null,
            "grid_auto_rows": null,
            "grid_column": null,
            "grid_gap": null,
            "grid_row": null,
            "grid_template_areas": null,
            "grid_template_columns": null,
            "grid_template_rows": null,
            "height": null,
            "justify_content": null,
            "justify_items": null,
            "left": null,
            "margin": null,
            "max_height": null,
            "max_width": null,
            "min_height": null,
            "min_width": null,
            "object_fit": null,
            "object_position": null,
            "order": null,
            "overflow": null,
            "overflow_x": null,
            "overflow_y": null,
            "padding": null,
            "right": null,
            "top": null,
            "visibility": null,
            "width": null
          }
        },
        "f2cde6052c424610bf47a192998b2dfe": {
          "model_module": "@jupyter-widgets/base",
          "model_name": "LayoutModel",
          "model_module_version": "1.2.0",
          "state": {
            "_model_module": "@jupyter-widgets/base",
            "_model_module_version": "1.2.0",
            "_model_name": "LayoutModel",
            "_view_count": null,
            "_view_module": "@jupyter-widgets/base",
            "_view_module_version": "1.2.0",
            "_view_name": "LayoutView",
            "align_content": null,
            "align_items": null,
            "align_self": null,
            "border": null,
            "bottom": null,
            "display": null,
            "flex": null,
            "flex_flow": null,
            "grid_area": null,
            "grid_auto_columns": null,
            "grid_auto_flow": null,
            "grid_auto_rows": null,
            "grid_column": null,
            "grid_gap": null,
            "grid_row": null,
            "grid_template_areas": null,
            "grid_template_columns": null,
            "grid_template_rows": null,
            "height": null,
            "justify_content": null,
            "justify_items": null,
            "left": null,
            "margin": null,
            "max_height": null,
            "max_width": null,
            "min_height": null,
            "min_width": null,
            "object_fit": null,
            "object_position": null,
            "order": null,
            "overflow": null,
            "overflow_x": null,
            "overflow_y": null,
            "padding": null,
            "right": null,
            "top": null,
            "visibility": null,
            "width": null
          }
        },
        "46ba84918ca64fa1a0514ff991320217": {
          "model_module": "@jupyter-widgets/controls",
          "model_name": "DescriptionStyleModel",
          "model_module_version": "1.5.0",
          "state": {
            "_model_module": "@jupyter-widgets/controls",
            "_model_module_version": "1.5.0",
            "_model_name": "DescriptionStyleModel",
            "_view_count": null,
            "_view_module": "@jupyter-widgets/base",
            "_view_module_version": "1.2.0",
            "_view_name": "StyleView",
            "description_width": ""
          }
        },
        "d042ea87cb8b4c16a99ad15f93832691": {
          "model_module": "@jupyter-widgets/base",
          "model_name": "LayoutModel",
          "model_module_version": "1.2.0",
          "state": {
            "_model_module": "@jupyter-widgets/base",
            "_model_module_version": "1.2.0",
            "_model_name": "LayoutModel",
            "_view_count": null,
            "_view_module": "@jupyter-widgets/base",
            "_view_module_version": "1.2.0",
            "_view_name": "LayoutView",
            "align_content": null,
            "align_items": null,
            "align_self": null,
            "border": null,
            "bottom": null,
            "display": null,
            "flex": null,
            "flex_flow": null,
            "grid_area": null,
            "grid_auto_columns": null,
            "grid_auto_flow": null,
            "grid_auto_rows": null,
            "grid_column": null,
            "grid_gap": null,
            "grid_row": null,
            "grid_template_areas": null,
            "grid_template_columns": null,
            "grid_template_rows": null,
            "height": null,
            "justify_content": null,
            "justify_items": null,
            "left": null,
            "margin": null,
            "max_height": null,
            "max_width": null,
            "min_height": null,
            "min_width": null,
            "object_fit": null,
            "object_position": null,
            "order": null,
            "overflow": null,
            "overflow_x": null,
            "overflow_y": null,
            "padding": null,
            "right": null,
            "top": null,
            "visibility": null,
            "width": "20px"
          }
        },
        "6e16c18e654441b8a688892fe7fa869b": {
          "model_module": "@jupyter-widgets/controls",
          "model_name": "ProgressStyleModel",
          "model_module_version": "1.5.0",
          "state": {
            "_model_module": "@jupyter-widgets/controls",
            "_model_module_version": "1.5.0",
            "_model_name": "ProgressStyleModel",
            "_view_count": null,
            "_view_module": "@jupyter-widgets/base",
            "_view_module_version": "1.2.0",
            "_view_name": "StyleView",
            "bar_color": null,
            "description_width": ""
          }
        },
        "ed0b6096b48b4b1783bed3716fe8ab10": {
          "model_module": "@jupyter-widgets/base",
          "model_name": "LayoutModel",
          "model_module_version": "1.2.0",
          "state": {
            "_model_module": "@jupyter-widgets/base",
            "_model_module_version": "1.2.0",
            "_model_name": "LayoutModel",
            "_view_count": null,
            "_view_module": "@jupyter-widgets/base",
            "_view_module_version": "1.2.0",
            "_view_name": "LayoutView",
            "align_content": null,
            "align_items": null,
            "align_self": null,
            "border": null,
            "bottom": null,
            "display": null,
            "flex": null,
            "flex_flow": null,
            "grid_area": null,
            "grid_auto_columns": null,
            "grid_auto_flow": null,
            "grid_auto_rows": null,
            "grid_column": null,
            "grid_gap": null,
            "grid_row": null,
            "grid_template_areas": null,
            "grid_template_columns": null,
            "grid_template_rows": null,
            "height": null,
            "justify_content": null,
            "justify_items": null,
            "left": null,
            "margin": null,
            "max_height": null,
            "max_width": null,
            "min_height": null,
            "min_width": null,
            "object_fit": null,
            "object_position": null,
            "order": null,
            "overflow": null,
            "overflow_x": null,
            "overflow_y": null,
            "padding": null,
            "right": null,
            "top": null,
            "visibility": null,
            "width": null
          }
        },
        "80a7ca9202ba4f78af1b627686db0b91": {
          "model_module": "@jupyter-widgets/controls",
          "model_name": "DescriptionStyleModel",
          "model_module_version": "1.5.0",
          "state": {
            "_model_module": "@jupyter-widgets/controls",
            "_model_module_version": "1.5.0",
            "_model_name": "DescriptionStyleModel",
            "_view_count": null,
            "_view_module": "@jupyter-widgets/base",
            "_view_module_version": "1.2.0",
            "_view_name": "StyleView",
            "description_width": ""
          }
        }
      }
    }
  },
  "nbformat": 4,
  "nbformat_minor": 0
}